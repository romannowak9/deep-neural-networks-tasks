{
  "cells": [
    {
      "cell_type": "markdown",
      "id": "60396ac6",
      "metadata": {
        "id": "60396ac6"
      },
      "source": [
        "# Lab 3 - Convolutional Neural Networks (CNNs)\n",
        "\n",
        "In this lab we will:\n",
        "- Understand the basics of Convolutional Neural Networks (CNNs)\n",
        "- Implement a simple CNN using PyTorch\n",
        "- Train and evaluate the CNN on the MNIST and CIFAR-10 datasets\n",
        "- Create a Trainer class to handle the training and evaluation process with Weights & Biases (wandb) integration"
      ]
    },
    {
      "cell_type": "code",
      "execution_count": null,
      "id": "82847ce2",
      "metadata": {
        "colab": {
          "base_uri": "https://localhost:8080/"
        },
        "id": "82847ce2",
        "outputId": "6119b6c0-069d-4ebc-8721-c227ba19e4c2"
      },
      "outputs": [
        {
          "output_type": "stream",
          "name": "stdout",
          "text": [
            "\u001b[34m\u001b[1mwandb\u001b[0m: No netrc file found, creating one.\n",
            "\u001b[34m\u001b[1mwandb\u001b[0m: Appending key for api.wandb.ai to your netrc file: /root/.netrc\n",
            "\u001b[34m\u001b[1mwandb\u001b[0m: W&B API key is configured. Use \u001b[1m`wandb login --relogin`\u001b[0m to force relogin\n",
            "Using device: cpu\n"
          ]
        }
      ],
      "source": [
        "# We will use the following libraries in our examples:\n",
        "\n",
        "import numpy\n",
        "import torch\n",
        "import matplotlib.pyplot as plt\n",
        "import torch.nn.functional as F\n",
        "import torchvision.transforms as transforms\n",
        "import torch.optim as optim\n",
        "import torch.nn as nn\n",
        "\n",
        "from torchvision.datasets import MNIST, CIFAR10\n",
        "from torch.utils.data import random_split\n",
        "from torch.utils.data import DataLoader\n",
        "\n",
        "import wandb\n",
        "\n",
        "!wandb login 2f4725bbec8770a63ad5cb3e1ff15f1e53b756f6  # Log in to your W&B account\n",
        "\n",
        "torch.manual_seed(42)  # For reproducibility\n",
        "\n",
        "device = torch.device('cuda' if torch.cuda.is_available() else 'cpu')\n",
        "print(f'Using device: {device}')"
      ]
    },
    {
      "cell_type": "markdown",
      "id": "cae95f1f",
      "metadata": {
        "id": "cae95f1f"
      },
      "source": [
        "For visualization, we will use the `visualise` function:"
      ]
    },
    {
      "cell_type": "code",
      "execution_count": null,
      "id": "52d2f923",
      "metadata": {
        "id": "52d2f923"
      },
      "outputs": [],
      "source": [
        "def visualise(dataset, grid = (3, 3)):\n",
        "    fig, axes = plt.subplots(grid[0], grid[1], figsize=(8, 8))\n",
        "    for i in range(grid[0]):\n",
        "        for j in range(grid[1]):\n",
        "            idx = numpy.random.randint(len(dataset))\n",
        "            img, label = dataset[idx]\n",
        "            axes[i, j].imshow(img, cmap='gray' if img.mode == 'L' else None)\n",
        "            axes[i, j].set_title(f'Label: {label}')\n",
        "            axes[i, j].axis('off')\n",
        "    plt.tight_layout()\n",
        "    plt.show()"
      ]
    },
    {
      "cell_type": "markdown",
      "id": "1c48a440",
      "metadata": {
        "id": "1c48a440"
      },
      "source": [
        "Load the MNIST dataset similarly to the previous lab, print basic information about the dataset, and visualize some samples using the `visualise` function:"
      ]
    },
    {
      "cell_type": "code",
      "execution_count": null,
      "id": "c91dc4da",
      "metadata": {
        "colab": {
          "base_uri": "https://localhost:8080/",
          "height": 911
        },
        "id": "c91dc4da",
        "outputId": "9bce870f-4555-4d2c-cae9-05f6956249a5"
      },
      "outputs": [
        {
          "output_type": "stream",
          "name": "stderr",
          "text": [
            "100%|██████████| 9.91M/9.91M [00:00<00:00, 12.6MB/s]\n",
            "100%|██████████| 28.9k/28.9k [00:00<00:00, 342kB/s]\n",
            "100%|██████████| 1.65M/1.65M [00:00<00:00, 3.19MB/s]\n",
            "100%|██████████| 4.54k/4.54k [00:00<00:00, 6.83MB/s]\n"
          ]
        },
        {
          "output_type": "stream",
          "name": "stdout",
          "text": [
            "MNIST dataset size: 60000\n",
            "MNIST image shape: (28, 28)\n"
          ]
        },
        {
          "output_type": "display_data",
          "data": {
            "text/plain": [
              "<Figure size 800x800 with 9 Axes>"
            ],
            "image/png": "[encoded data removed]"
          },
          "metadata": {}
        }
      ],
      "source": [
        "mnist_train = MNIST('./data', download=True)\n",
        "\n",
        "print(f'MNIST dataset size: {len(mnist_train)}')\n",
        "print(f'MNIST image shape: {mnist_train[0][0].size}')\n",
        "\n",
        "visualise(mnist_train)"
      ]
    },
    {
      "cell_type": "markdown",
      "id": "15839dbb",
      "metadata": {
        "id": "15839dbb"
      },
      "source": [
        "Doing the same for CIFAR-10:"
      ]
    },
    {
      "cell_type": "code",
      "execution_count": null,
      "id": "da0e4549",
      "metadata": {
        "colab": {
          "base_uri": "https://localhost:8080/",
          "height": 859
        },
        "id": "da0e4549",
        "outputId": "7da0295b-a762-45ac-90d1-86272b232457"
      },
      "outputs": [
        {
          "output_type": "stream",
          "name": "stderr",
          "text": [
            "100%|██████████| 170M/170M [00:05<00:00, 28.8MB/s]\n"
          ]
        },
        {
          "output_type": "stream",
          "name": "stdout",
          "text": [
            "CIFAR-10 dataset size: 50000\n",
            "CIFAR-10 image shape: (32, 32)\n"
          ]
        },
        {
          "output_type": "display_data",
          "data": {
            "text/plain": [
              "<Figure size 800x800 with 9 Axes>"
            ],
            "image/png": "[encoded data removed]"
          },
          "metadata": {}
        }
      ],
      "source": [
        "cifar10_train = CIFAR10('./data', download=True, train=True)\n",
        "\n",
        "print(f'CIFAR-10 dataset size: {len(cifar10_train)}')\n",
        "print(f'CIFAR-10 image shape: {cifar10_train[0][0].size}')\n",
        "\n",
        "visualise(cifar10_train)"
      ]
    },
    {
      "cell_type": "markdown",
      "id": "4f4b3b8b",
      "metadata": {
        "id": "4f4b3b8b"
      },
      "source": [
        "As you can see, the CIFAR-10 dataset is more complex than MNIST, with colored images and higher resolution (MNIST images are 28x28 pixels, while CIFAR-10 images are 32x32 pixels). This makes CIFAR-10 a more challenging dataset for image classification tasks.\n",
        "\n",
        "Now, let's prepare the training, validation, and test data loaders for both datasets. In this exercise, we will use also the validation set (which we remember is 20% of the training set) to monitor the training process and to save the best model based on validation accuracy.\n",
        "\n",
        "Both datasets are primally in PIL format, so we need to convert them to tensors and normalize them. For MNIST, as in previous lab, we need it to normalize only to rage [0, 1], what is done by `transforms.ToTensor()`. For CIFAR-10, we will normalize the images to have a mean of 0.5 and a standard deviation of 0.5 for each channel (RGB). It results in pixel values ranging from -1 to 1. This normalization helps in speeding up the convergence during training. To achieve this, we will use the `transforms.Normalize` function with the specified mean and standard deviation values ((0.5, 0.5, 0.5), (0.5, 0.5, 0.5)).\n",
        "\n",
        "To do this, we will use the `transforms.Compose` function to chain multiple transformations together.\n",
        "\n",
        "https://docs.pytorch.org/vision/main/generated/torchvision.datasets.CIFAR10.html\n",
        "\n",
        "https://docs.pytorch.org/vision/main/generated/torchvision.transforms.Normalize.html\n",
        "\n",
        "https://docs.pytorch.org/vision/main/generated/torchvision.transforms.Compose.html"
      ]
    },
    {
      "cell_type": "code",
      "execution_count": null,
      "id": "c177cb57",
      "metadata": {
        "colab": {
          "base_uri": "https://localhost:8080/"
        },
        "id": "c177cb57",
        "outputId": "aa677cb2-f7dc-4f50-b245-73cb6815bd53"
      },
      "outputs": [
        {
          "output_type": "stream",
          "name": "stdout",
          "text": [
            "MNIST train size: 48000, val size: 12000, test size: 10000\n",
            "CIFAR-10 train size: 40000, val size: 10000, test size: 10000\n"
          ]
        }
      ],
      "source": [
        "transform = transforms.Compose([transforms.ToTensor()])\n",
        "\n",
        "mnist = MNIST('./data', download=True, transform=transform, train=True)\n",
        "mnist_test = MNIST('./data', download=True, transform=transform, train=False)\n",
        "mnist_train, mnist_val = random_split(mnist, [0.8, 0.2])\n",
        "\n",
        "transform = transforms.Compose([transforms.ToTensor(),\n",
        "                                transforms.Normalize((0.5, 0.5, 0.5), (0.5, 0.5, 0.5))])\n",
        "\n",
        "cifar10 = CIFAR10('./data', download=True, transform=transform, train=True)\n",
        "cifar10_test = CIFAR10('./data', download=True, transform=transform, train=False)\n",
        "cifar10_train, cifar10_val = random_split(cifar10, [0.8, 0.2])\n",
        "\n",
        "print(f'MNIST train size: {len(mnist_train)}, val size: {len(mnist_val)}, test size: {len(mnist_test)}')\n",
        "print(f'CIFAR-10 train size: {len(cifar10_train)}, val size: {len(cifar10_val)}, test size: {len(cifar10_test)}')"
      ]
    },
    {
      "cell_type": "markdown",
      "id": "1695a85e",
      "metadata": {
        "id": "1695a85e"
      },
      "source": [
        "For each dataset, we will create three data loaders: one for training, one for validation, and one for testing. We will use a batch size of 64 for all data loaders. The training data loader will shuffle the data to ensure that the model sees the data in a different order during each epoch, while the validation and test data loaders will not shuffle the data."
      ]
    },
    {
      "cell_type": "code",
      "execution_count": null,
      "id": "f9d46360",
      "metadata": {
        "id": "f9d46360"
      },
      "outputs": [],
      "source": [
        "train_loader_mnist = DataLoader(mnist_train, batch_size=64, shuffle=True)\n",
        "val_loader_mnist = DataLoader(mnist_val, batch_size=64, shuffle=False)\n",
        "test_loader_mnist = DataLoader(mnist_test, batch_size=64, shuffle=False)\n",
        "\n",
        "train_loader_cifar10 = DataLoader(cifar10_train, batch_size=64, shuffle=True)\n",
        "val_loader_cifar10 = DataLoader(cifar10_val, batch_size=64, shuffle=False)\n",
        "test_loader_cifar10 = DataLoader(cifar10_test, batch_size=64, shuffle=False)"
      ]
    },
    {
      "cell_type": "markdown",
      "id": "ba5e0d28",
      "metadata": {
        "id": "ba5e0d28"
      },
      "source": [
        "## CNN Model\n",
        "\n",
        "In the previous lab, we implemented a simple Multi-Layer Perceptron (MLP) for image classification, which worked well for the MNIST dataset. However, MNIST dataset consists of simple grayscale images of handwritten digits, which are relatively easy to classify. When we move to more complex datasets like CIFAR-10, which contains colored images of various objects, the MLP may not perform as well due to its limited ability to capture spatial hierarchies and local patterns in the data. Additionally, for larger images, the number of parameters in an MLP can become very large, leading to overfitting and increased computational requirements.\n",
        "\n",
        "> For example, first layer of MLP for MNIST has 784 (28 * 28) inputs and 128 outputs, so it has 784 * 128 = 100352 parameters. For CIFAR-10, if we flatten the 32x32x3 images, we get 3072 inputs. If we keep the same number of outputs (128), the first layer would have 3072 * 128 = 393216 parameters, which is significantly larger. If we consider images of size 224x224x3 (like in ImageNet), the first layer would have 150528 inputs, leading to 150528*128 = 19267584 parameters, which is impractical.\n",
        "\n",
        "To address these problems, people came up with Convolutional Layers, which are designed to process data with a grid-like topology, such as images. Convolutional layers use a set of learnable filters (or kernels) that slide over the input image to capture local patterns and spatial hierarchies. Simple visualization of convolution operation is shown below (source: [link](https://www.cs.cmu.edu/~bhiksha/courses/deeplearning/Spring.2019/archive-f19/www-bak11-22-2019/document/note/hwnotes/hw2/hw2.html)):\n",
        "\n",
        "<img src=https://raw.githubusercontent.com/vision-agh/DNN-Course-media/refs/heads/main/lab3_cnn/figures/convolution_layer.gif width=\"400\">\n",
        "\n",
        "Parameters of convolutional layer are:\n",
        "- in_channels: Number of channels in the input image or feature map (e.g., 3 for RGB images, 1 for grayscale images).\n",
        "- out_channels: Number of filters (or kernels) in the convolutional layer. Each filter will produce a separate output channel (feature map).\n",
        "- kernel_size: Size of the filters (kernels). It can be a single integer (for square kernels) or a tuple (height, width).\n",
        "- stride: Step size with which the filter moves across the input image. A stride of 1 means the filter moves one pixel at a time, while a stride of 2 means it moves two pixels at a time.\n",
        "- padding: Number of pixels added to the border of the input image. Padding helps to control the spatial dimensions of the output feature map.\n",
        "\n",
        "What is important, parameters kernel_size, stride and padding affect the spatial dimensions of the output feature map. The output height and width can be calculated using the following formulas:\n",
        "\n",
        "```\n",
        "Output Height = (Input Height - Kernel Height + 2 * Padding) / Stride + 1\n",
        "Output Width = (Input Width - Kernel Width + 2 * Padding) / Stride + 1\n",
        "```\n",
        "\n",
        "> For example, if we have an input image of size 32x32, a kernel size of 3x3, a stride of 1, and a padding of 1, the output feature map will have the same spatial dimensions as the input image (32x32). However, if we use a stride of 2, the output feature map will be reduced to 16x16.\n",
        "\n",
        "Additionally, Convolutional Neural Networks often include other types of layers, with the most common being Pooling Layers. Pooling layers are used to reduce the spatial dimensions of the feature maps, which helps to decrease the number of parameters and computations in the network, as well as to control overfitting. The most common type of pooling is Max Pooling, which takes the maximum value from a defined region (e.g., 2x2) of the feature map, as shown below (source: [link](https://nico-curti.github.io/NumPyNet/NumPyNet/layers/maxpool_layer.html)):\n",
        "\n",
        "<img src=https://raw.githubusercontent.com/vision-agh/DNN-Course-media/refs/heads/main/lab3_cnn/figures/maxpool.gif width=\"400\">\n",
        "\n",
        "In our implementation, we will use the following architecture for our CNN:\n",
        "- Convolutional Layer with input channels = 1 (for MNIST) or 3 (for CIFAR-10), output channels = 32, kernel size = 3, stride = 1, padding = 1\n",
        "- ReLU Activation Function\n",
        "- Max Pooling Layer with kernel size = 2 and stride = 2 (this will reduce the spatial dimensions by half)\n",
        "- Convolutional Layer with input channels = 32, output channels = 64, kernel size = 3, stride = 1, padding = 1\n",
        "- ReLU Activation Function\n",
        "- Max Pooling Layer with kernel size = 2 and stride = 2 (this will again reduce the spatial dimensions by half)\n",
        "- Flatten Layer to convert the 2D feature maps to a 1D feature vector\n",
        "- Fully Connected Layer with input features = 64 * 7 * 7 (for MNIST) or 64 * 8 * 8 (for CIFAR-10), output features = 128\n",
        "- ReLU Activation Function\n",
        "- Fully Connected Layer with input features = 128, output features = 10 (number of classes)"
      ]
    },
    {
      "cell_type": "code",
      "execution_count": null,
      "id": "719edee8",
      "metadata": {
        "colab": {
          "base_uri": "https://localhost:8080/"
        },
        "id": "719edee8",
        "outputId": "2f6b9454-a75a-4be4-f4c2-3e760a89e976"
      },
      "outputs": [
        {
          "output_type": "stream",
          "name": "stdout",
          "text": [
            "ConvNet(\n",
            "  (conv1): Conv2d(1, 32, kernel_size=(3, 3), stride=(1, 1), padding=(1, 1))\n",
            "  (pool1): MaxPool2d(kernel_size=2, stride=2, padding=0, dilation=1, ceil_mode=False)\n",
            "  (conv2): Conv2d(32, 64, kernel_size=(3, 3), stride=(1, 1), padding=(1, 1))\n",
            "  (pool2): MaxPool2d(kernel_size=2, stride=2, padding=0, dilation=1, ceil_mode=False)\n",
            "  (fc1): Linear(in_features=3136, out_features=128, bias=True)\n",
            "  (fc2): Linear(in_features=128, out_features=10, bias=True)\n",
            ")\n",
            "ConvNet(\n",
            "  (conv1): Conv2d(3, 32, kernel_size=(3, 3), stride=(1, 1), padding=(1, 1))\n",
            "  (pool1): MaxPool2d(kernel_size=2, stride=2, padding=0, dilation=1, ceil_mode=False)\n",
            "  (conv2): Conv2d(32, 64, kernel_size=(3, 3), stride=(1, 1), padding=(1, 1))\n",
            "  (pool2): MaxPool2d(kernel_size=2, stride=2, padding=0, dilation=1, ceil_mode=False)\n",
            "  (fc1): Linear(in_features=4096, out_features=128, bias=True)\n",
            "  (fc2): Linear(in_features=128, out_features=10, bias=True)\n",
            ")\n"
          ]
        }
      ],
      "source": [
        "class ConvNet(nn.Module):\n",
        "    def __init__(self,\n",
        "                 input_channels,\n",
        "                 num_classes):\n",
        "\n",
        "        super(ConvNet, self).__init__()\n",
        "        self.input_channels = input_channels\n",
        "\n",
        "        self.conv1 = nn.Conv2d(input_channels, 32, kernel_size=3, padding=1)\n",
        "        self.pool1 = nn.MaxPool2d(kernel_size=2, stride=2, padding=0)\n",
        "        self.conv2 = nn.Conv2d(32, 64, kernel_size=3, padding=1)\n",
        "        self.pool2 = nn.MaxPool2d(kernel_size=2, stride=2, padding=0)\n",
        "        self.fc1 = nn.Linear(64 * 7 * 7 if self.input_channels  == 1 else 64 * 8 * 8, 128)\n",
        "        self.fc2 = nn.Linear(128, num_classes)\n",
        "\n",
        "    def forward(self, x):\n",
        "        x = self.pool1(F.relu(self.conv1(x)))\n",
        "        x = self.pool2(F.relu(self.conv2(x)))\n",
        "        x = x.view(-1, 64 * 7 * 7 if self.input_channels == 1 else 64 * 8 * 8)\n",
        "        x = F.relu(self.fc1(x))\n",
        "        x = self.fc2(x)\n",
        "        return x\n",
        "\n",
        "model_mnist = ConvNet(input_channels=1, num_classes=10).to(device)\n",
        "model_cifar10 = ConvNet(input_channels=3, num_classes=10).to(device)\n",
        "\n",
        "print(model_mnist)\n",
        "print(model_cifar10)"
      ]
    },
    {
      "cell_type": "markdown",
      "id": "d07e384d",
      "metadata": {
        "id": "d07e384d"
      },
      "source": [
        "Now, let's prepare the Trainer class to handle the training and evaluation process with Weights & Biases (wandb) integration.\n",
        "\n",
        "In the Trainer class, we will implement the following methods:\n",
        "- `__init__`: Initialize the Trainer class with:\n",
        "    - model: The neural network model to be trained\n",
        "    - train_loader: DataLoader for the training dataset\n",
        "    - val_loader: DataLoader for the validation dataset\n",
        "    - test_loader: DataLoader for the test dataset\n",
        "    - criterion: Loss function (CrossEntropyLoss for multi-class classification)\n",
        "    - optimizer: Optimization algorithm (Adam optimizer)\n",
        "    - num_epochs: Number of epochs to train the model\n",
        "    - group: Group name for wandb logging ('mnist' or 'cifar10' for easy identification)\n",
        "    - name: Your name or any identifier for the run\n",
        "- `training_epoch`: Single epoch of training, which includes:\n",
        "    - Setting the model to training mode\n",
        "    - Iterating over the training data loader\n",
        "    - Forward pass, loss computation, backward pass, and optimizer step\n",
        "    - Calculating running loss and accuracy for the epoch\n",
        "    - Returning the average loss and accuracy for the epoch\n",
        "- `evaluate`: Evaluate the model on a given data loader (validation or test), which includes:\n",
        "    - Setting the model to evaluation mode and disabling gradient computation\n",
        "    - Iterating over the data loader\n",
        "    - Forward pass and loss computation\n",
        "    - Calculating running loss and accuracy\n",
        "    - Returning the average loss and accuracy\n",
        "- `train`: Main training loop, which includes:\n",
        "    - Initializing wandb logging\n",
        "    - Iterating over the number of epochs\n",
        "    - Calling `training_epoch` for training\n",
        "    - Calling `evaluate` on the validation set\n",
        "    - Logging training and validation metrics to wandb\n",
        "    - Saving the best model based on validation accuracy (using `torch.save` and `model.state_dict()`)\n",
        "    - After training, evaluating the best model (using `torch.load` and `self.model.load_state_dict()`) on the test set and logging the test metrics to wandb\n",
        "    - Finishing wandb logging"
      ]
    },
    {
      "cell_type": "code",
      "execution_count": null,
      "id": "0e7fd8f2",
      "metadata": {
        "id": "0e7fd8f2"
      },
      "outputs": [],
      "source": [
        "class Trainer():\n",
        "    def __init__(self,\n",
        "                 model,\n",
        "                 train_loader,\n",
        "                 val_loader,\n",
        "                 test_loader,\n",
        "                 criterion,\n",
        "                 optimizer,\n",
        "                 num_epochs=25,\n",
        "                 group=\"mnist\", # or \"cifar10\"\n",
        "                 name=\"Kamil Jeziorek\"):\n",
        "\n",
        "        self.model = model\n",
        "        self.train_loader = train_loader\n",
        "        self.val_loader = val_loader\n",
        "        self.test_loader = test_loader\n",
        "        self.criterion = criterion\n",
        "        self.optimizer = optimizer\n",
        "        self.num_epochs = num_epochs\n",
        "        self.name = name\n",
        "        self.group = group\n",
        "\n",
        "    def training_epoch(self, data_loader):\n",
        "        self.model.train()\n",
        "        running_loss = 0.0\n",
        "        correct = 0\n",
        "        total = 0\n",
        "\n",
        "        for inputs, labels in data_loader:\n",
        "            inputs, labels = inputs.to(device), labels.to(device)\n",
        "\n",
        "            self.optimizer.zero_grad()\n",
        "\n",
        "            outputs = self.model(inputs)\n",
        "            loss = self.criterion(outputs, labels)\n",
        "            loss.backward()\n",
        "            self.optimizer.step()\n",
        "\n",
        "            running_loss += loss.item()\n",
        "            _, predicted = torch.max(outputs.data, 1)\n",
        "            total += labels.size(0)\n",
        "            correct += (predicted == labels).sum().item()\n",
        "\n",
        "        loss = running_loss / len(data_loader)\n",
        "        accuracy = 100 * correct / total\n",
        "        return loss, accuracy\n",
        "\n",
        "    def evaluate(self, data_loader):\n",
        "        self.model.eval()\n",
        "        running_loss = 0.0\n",
        "        correct = 0\n",
        "        total = 0\n",
        "\n",
        "        with torch.no_grad():\n",
        "            for inputs, labels in data_loader:\n",
        "                inputs, labels = inputs.to(device), labels.to(device)\n",
        "\n",
        "                outputs = self.model(inputs)\n",
        "                loss = self.criterion(outputs, labels)\n",
        "\n",
        "                running_loss += loss.item()\n",
        "                _, predicted = torch.max(outputs.data, 1)\n",
        "                total += labels.size(0)\n",
        "                correct += (predicted == labels).sum().item()\n",
        "\n",
        "        loss = running_loss / len(data_loader)\n",
        "        accuracy = 100 * correct / total\n",
        "        return loss, accuracy\n",
        "\n",
        "    def train(self):\n",
        "        wandb.init(project=\"lab3-cnn\",\n",
        "                   entity=\"deep-neural-network-course\",\n",
        "                   name=self.name,\n",
        "                   group=self.group)\n",
        "        wandb.watch(self.model, log=\"all\")\n",
        "        best_val_accuracy = 0.0\n",
        "\n",
        "        for epoch in range(self.num_epochs):\n",
        "            train_loss, train_accuracy = self.training_epoch(self.train_loader)\n",
        "            val_loss, val_accuracy = self.evaluate(self.val_loader)\n",
        "\n",
        "            wandb.log({\n",
        "                \"Epoch\": epoch + 1,\n",
        "                \"Train Loss\": train_loss,\n",
        "                \"Train Accuracy\": train_accuracy,\n",
        "                \"Validation Loss\": val_loss,\n",
        "                \"Validation Accuracy\": val_accuracy\n",
        "            })\n",
        "\n",
        "            print(f'Epoch [{epoch + 1}/{self.num_epochs}], '\n",
        "                  f'Train Loss: {train_loss:.4f}, Train Accuracy: {train_accuracy:.2f}%, '\n",
        "                  f'Validation Loss: {val_loss:.4f}, Validation Accuracy: {val_accuracy:.2f}%')\n",
        "\n",
        "            if val_accuracy > best_val_accuracy:\n",
        "                best_val_accuracy = val_accuracy\n",
        "                torch.save(self.model.state_dict(), f'best_model_{self.group}.pth')\n",
        "                print('Best model saved!')\n",
        "\n",
        "        self.model.load_state_dict(torch.load(f'best_model_{self.group}.pth'))\n",
        "\n",
        "        test_loss, test_accuracy = self.evaluate(self.test_loader)\n",
        "        print(f'Test Loss: {test_loss:.4f}, Test Accuracy: {test_accuracy:.2f}%')\n",
        "        wandb.log({\n",
        "            \"Test Loss\": test_loss,\n",
        "            \"Test Accuracy\": test_accuracy\n",
        "        })\n",
        "        wandb.finish()"
      ]
    },
    {
      "cell_type": "markdown",
      "id": "8cf176e0",
      "metadata": {
        "id": "8cf176e0"
      },
      "source": [
        "Now, lets run the training and evaluation process for both datasets using the Trainer class."
      ]
    },
    {
      "cell_type": "code",
      "execution_count": null,
      "id": "432d5487",
      "metadata": {
        "colab": {
          "base_uri": "https://localhost:8080/",
          "height": 1000
        },
        "id": "432d5487",
        "outputId": "788f6ee7-ebd5-4e02-f3b1-d8c1b455e08a"
      },
      "outputs": [
        {
          "output_type": "stream",
          "name": "stderr",
          "text": [
            "/usr/local/lib/python3.12/dist-packages/notebook/notebookapp.py:191: SyntaxWarning: invalid escape sequence '\\/'\n",
            "  | |_| | '_ \\/ _` / _` |  _/ -_)\n",
            "\u001b[34m\u001b[1mwandb\u001b[0m: Currently logged in as: \u001b[33mromannowak9\u001b[0m (\u001b[33mromannowak9-agh\u001b[0m) to \u001b[32mhttps://api.wandb.ai\u001b[0m. Use \u001b[1m`wandb login --relogin`\u001b[0m to force relogin\n"
          ]
        },
        {
          "output_type": "display_data",
          "data": {
            "text/plain": [
              "<IPython.core.display.HTML object>"
            ],
            "text/html": []
          },
          "metadata": {}
        },
        {
          "output_type": "display_data",
          "data": {
            "text/plain": [
              "<IPython.core.display.HTML object>"
            ],
            "text/html": [
              "Tracking run with wandb version 0.22.1"
            ]
          },
          "metadata": {}
        },
        {
          "output_type": "display_data",
          "data": {
            "text/plain": [
              "<IPython.core.display.HTML object>"
            ],
            "text/html": [
              "Run data is saved locally in <code>/content/wandb/run-20251006_155507-u5m6j7rr</code>"
            ]
          },
          "metadata": {}
        },
        {
          "output_type": "display_data",
          "data": {
            "text/plain": [
              "<IPython.core.display.HTML object>"
            ],
            "text/html": [
              "Syncing run <strong><a href='https://wandb.ai/deep-neural-network-course/lab3-cnn/runs/u5m6j7rr' target=\"_blank\">Roman Nowak</a></strong> to <a href='https://wandb.ai/deep-neural-network-course/lab3-cnn' target=\"_blank\">Weights & Biases</a> (<a href='https://wandb.me/developer-guide' target=\"_blank\">docs</a>)<br>"
            ]
          },
          "metadata": {}
        },
        {
          "output_type": "display_data",
          "data": {
            "text/plain": [
              "<IPython.core.display.HTML object>"
            ],
            "text/html": [
              " View project at <a href='https://wandb.ai/deep-neural-network-course/lab3-cnn' target=\"_blank\">https://wandb.ai/deep-neural-network-course/lab3-cnn</a>"
            ]
          },
          "metadata": {}
        },
        {
          "output_type": "display_data",
          "data": {
            "text/plain": [
              "<IPython.core.display.HTML object>"
            ],
            "text/html": [
              " View run at <a href='https://wandb.ai/deep-neural-network-course/lab3-cnn/runs/u5m6j7rr' target=\"_blank\">https://wandb.ai/deep-neural-network-course/lab3-cnn/runs/u5m6j7rr</a>"
            ]
          },
          "metadata": {}
        },
        {
          "output_type": "stream",
          "name": "stdout",
          "text": [
            "Epoch [1/25], Train Loss: 0.2063, Train Accuracy: 93.69%, Validation Loss: 0.0799, Validation Accuracy: 97.64%\n",
            "Best model saved!\n",
            "Epoch [2/25], Train Loss: 0.0558, Train Accuracy: 98.34%, Validation Loss: 0.0619, Validation Accuracy: 98.13%\n",
            "Best model saved!\n",
            "Epoch [3/25], Train Loss: 0.0384, Train Accuracy: 98.80%, Validation Loss: 0.0478, Validation Accuracy: 98.53%\n",
            "Best model saved!\n",
            "Epoch [4/25], Train Loss: 0.0280, Train Accuracy: 99.11%, Validation Loss: 0.0432, Validation Accuracy: 98.75%\n",
            "Best model saved!\n",
            "Epoch [5/25], Train Loss: 0.0219, Train Accuracy: 99.29%, Validation Loss: 0.0411, Validation Accuracy: 98.72%\n",
            "Epoch [6/25], Train Loss: 0.0176, Train Accuracy: 99.45%, Validation Loss: 0.0364, Validation Accuracy: 98.89%\n",
            "Best model saved!\n",
            "Epoch [7/25], Train Loss: 0.0130, Train Accuracy: 99.59%, Validation Loss: 0.0374, Validation Accuracy: 98.84%\n",
            "Epoch [8/25], Train Loss: 0.0104, Train Accuracy: 99.69%, Validation Loss: 0.0431, Validation Accuracy: 98.80%\n",
            "Epoch [9/25], Train Loss: 0.0101, Train Accuracy: 99.64%, Validation Loss: 0.0416, Validation Accuracy: 98.88%\n",
            "Epoch [10/25], Train Loss: 0.0088, Train Accuracy: 99.73%, Validation Loss: 0.0426, Validation Accuracy: 98.89%\n",
            "Epoch [11/25], Train Loss: 0.0082, Train Accuracy: 99.75%, Validation Loss: 0.0509, Validation Accuracy: 98.69%\n",
            "Epoch [12/25], Train Loss: 0.0061, Train Accuracy: 99.80%, Validation Loss: 0.0522, Validation Accuracy: 98.72%\n",
            "Epoch [13/25], Train Loss: 0.0064, Train Accuracy: 99.78%, Validation Loss: 0.0421, Validation Accuracy: 98.95%\n",
            "Best model saved!\n",
            "Epoch [14/25], Train Loss: 0.0025, Train Accuracy: 99.92%, Validation Loss: 0.0544, Validation Accuracy: 98.97%\n",
            "Best model saved!\n",
            "Epoch [15/25], Train Loss: 0.0065, Train Accuracy: 99.79%, Validation Loss: 0.0508, Validation Accuracy: 98.92%\n",
            "Epoch [16/25], Train Loss: 0.0058, Train Accuracy: 99.78%, Validation Loss: 0.0573, Validation Accuracy: 98.77%\n",
            "Epoch [17/25], Train Loss: 0.0021, Train Accuracy: 99.94%, Validation Loss: 0.0480, Validation Accuracy: 98.94%\n",
            "Epoch [18/25], Train Loss: 0.0041, Train Accuracy: 99.86%, Validation Loss: 0.0743, Validation Accuracy: 98.57%\n",
            "Epoch [19/25], Train Loss: 0.0042, Train Accuracy: 99.85%, Validation Loss: 0.0591, Validation Accuracy: 98.90%\n",
            "Epoch [20/25], Train Loss: 0.0025, Train Accuracy: 99.92%, Validation Loss: 0.0530, Validation Accuracy: 99.02%\n",
            "Best model saved!\n",
            "Epoch [21/25], Train Loss: 0.0035, Train Accuracy: 99.89%, Validation Loss: 0.0603, Validation Accuracy: 98.88%\n",
            "Epoch [22/25], Train Loss: 0.0040, Train Accuracy: 99.87%, Validation Loss: 0.0514, Validation Accuracy: 99.08%\n",
            "Best model saved!\n",
            "Epoch [23/25], Train Loss: 0.0029, Train Accuracy: 99.91%, Validation Loss: 0.0564, Validation Accuracy: 98.97%\n",
            "Epoch [24/25], Train Loss: 0.0031, Train Accuracy: 99.91%, Validation Loss: 0.0600, Validation Accuracy: 98.90%\n",
            "Epoch [25/25], Train Loss: 0.0019, Train Accuracy: 99.94%, Validation Loss: 0.0688, Validation Accuracy: 98.93%\n",
            "Test Loss: 0.0423, Test Accuracy: 99.19%\n"
          ]
        },
        {
          "output_type": "display_data",
          "data": {
            "text/plain": [
              "<IPython.core.display.HTML object>"
            ],
            "text/html": []
          },
          "metadata": {}
        },
        {
          "output_type": "display_data",
          "data": {
            "text/plain": [
              "<IPython.core.display.HTML object>"
            ],
            "text/html": [
              "<br>    <style><br>        .wandb-row {<br>            display: flex;<br>            flex-direction: row;<br>            flex-wrap: wrap;<br>            justify-content: flex-start;<br>            width: 100%;<br>        }<br>        .wandb-col {<br>            display: flex;<br>            flex-direction: column;<br>            flex-basis: 100%;<br>            flex: 1;<br>            padding: 10px;<br>        }<br>    </style><br><div class=\"wandb-row\"><div class=\"wandb-col\"><h3>Run history:</h3><br/><table class=\"wandb\"><tr><td>Epoch</td><td>▁▁▂▂▂▂▃▃▃▄▄▄▅▅▅▅▆▆▆▇▇▇▇██</td></tr><tr><td>Test Accuracy</td><td>▁</td></tr><tr><td>Test Loss</td><td>▁</td></tr><tr><td>Train Accuracy</td><td>▁▆▇▇▇▇███████████████████</td></tr><tr><td>Train Loss</td><td>█▃▂▂▂▂▁▁▁▁▁▁▁▁▁▁▁▁▁▁▁▁▁▁▁</td></tr><tr><td>Validation Accuracy</td><td>▁▃▅▆▆▇▇▇▇▇▆▆▇█▇▆▇▆▇█▇██▇▇</td></tr><tr><td>Validation Loss</td><td>█▅▃▂▂▁▁▂▂▂▃▄▂▄▃▄▃▇▅▄▅▃▄▅▆</td></tr></table><br/></div><div class=\"wandb-col\"><h3>Run summary:</h3><br/><table class=\"wandb\"><tr><td>Epoch</td><td>25</td></tr><tr><td>Test Accuracy</td><td>99.19</td></tr><tr><td>Test Loss</td><td>0.04232</td></tr><tr><td>Train Accuracy</td><td>99.93542</td></tr><tr><td>Train Loss</td><td>0.00191</td></tr><tr><td>Validation Accuracy</td><td>98.93333</td></tr><tr><td>Validation Loss</td><td>0.06876</td></tr></table><br/></div></div>"
            ]
          },
          "metadata": {}
        },
        {
          "output_type": "display_data",
          "data": {
            "text/plain": [
              "<IPython.core.display.HTML object>"
            ],
            "text/html": [
              " View run <strong style=\"color:#cdcd00\">Roman Nowak</strong> at: <a href='https://wandb.ai/deep-neural-network-course/lab3-cnn/runs/u5m6j7rr' target=\"_blank\">https://wandb.ai/deep-neural-network-course/lab3-cnn/runs/u5m6j7rr</a><br> View project at: <a href='https://wandb.ai/deep-neural-network-course/lab3-cnn' target=\"_blank\">https://wandb.ai/deep-neural-network-course/lab3-cnn</a><br>Synced 5 W&B file(s), 0 media file(s), 0 artifact file(s) and 0 other file(s)"
            ]
          },
          "metadata": {}
        },
        {
          "output_type": "display_data",
          "data": {
            "text/plain": [
              "<IPython.core.display.HTML object>"
            ],
            "text/html": [
              "Find logs at: <code>./wandb/run-20251006_155507-u5m6j7rr/logs</code>"
            ]
          },
          "metadata": {}
        }
      ],
      "source": [
        "# Training and evaluating the model on MNIST\n",
        "trainer_mnist = Trainer(model=model_mnist,\n",
        "                        train_loader=train_loader_mnist,\n",
        "                        val_loader=val_loader_mnist,\n",
        "                        test_loader=test_loader_mnist,\n",
        "                        criterion=nn.CrossEntropyLoss(),\n",
        "                        optimizer=optim.Adam(model_mnist.parameters(), lr=0.001),\n",
        "                        num_epochs=25,\n",
        "                        group=\"mnist\",\n",
        "                        name=\"Roman Nowak\")\n",
        "\n",
        "# Training and evaluating the model on MNIST\n",
        "trainer_mnist.train()"
      ]
    },
    {
      "cell_type": "code",
      "execution_count": null,
      "id": "558c10c5",
      "metadata": {
        "id": "558c10c5"
      },
      "outputs": [],
      "source": [
        "# Training and evaluating the model on CIFAR-10\n",
        "\n",
        "trainer_cifar10 = Trainer(model=model_cifar10,\n",
        "                        train_loader=train_loader_cifar10,\n",
        "                        val_loader=val_loader_cifar10,\n",
        "                        test_loader=test_loader_cifar10,\n",
        "                        criterion=nn.CrossEntropyLoss(),\n",
        "                        optimizer=optim.Adam(model_cifar10.parameters(), lr=0.001),\n",
        "                        num_epochs=25,\n",
        "                        group=\"cifar10\",\n",
        "                        name=\"Roman Nowak\")\n",
        "# Training and evaluating the model on CIFAR-10\n",
        "trainer_cifar10.train()"
      ]
    },
    {
      "cell_type": "markdown",
      "id": "ecbf5bb7",
      "metadata": {
        "id": "ecbf5bb7"
      },
      "source": [
        "This lab is partially based on the following resources:\n",
        "\n",
        "- https://docs.pytorch.org/tutorials/beginner/blitz/cifar10_tutorial.html"
      ]
    }
  ],
  "metadata": {
    "kernelspec": {
      "display_name": "dnn",
      "language": "python",
      "name": "python3"
    },
    "language_info": {
      "codemirror_mode": {
        "name": "ipython",
        "version": 3
      },
      "file_extension": ".py",
      "mimetype": "text/x-python",
      "name": "python",
      "nbconvert_exporter": "python",
      "pygments_lexer": "ipython3",
      "version": "3.9.23"
    },
    "colab": {
      "provenance": []
    }
  },
  "nbformat": 4,
  "nbformat_minor": 5
}