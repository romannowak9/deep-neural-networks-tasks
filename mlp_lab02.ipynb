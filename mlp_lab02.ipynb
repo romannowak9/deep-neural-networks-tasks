{
  "cells": [
    {
      "cell_type": "markdown",
      "id": "229bcb1e",
      "metadata": {
        "id": "229bcb1e"
      },
      "source": [
        "# Lab 2 - Building and Training a Simple Neural Network (MLP) for MNIST Classification"
      ]
    },
    {
      "cell_type": "markdown",
      "id": "720cb6a4",
      "metadata": {
        "id": "720cb6a4"
      },
      "source": [
        "In this lab, we will build and train a simple neural network (Multi-Layer Perceptron - MLP) to classify handwritten digits from the MNIST dataset using PyTorch. We will also use Weights & Biases (W&B) to track our experiments.\n",
        "\n",
        "We start by importing the necessary libraries and setting up the device for computation (CPU or GPU):"
      ]
    },
    {
      "cell_type": "code",
      "execution_count": null,
      "id": "bc9d3d15",
      "metadata": {
        "colab": {
          "base_uri": "https://localhost:8080/"
        },
        "id": "bc9d3d15",
        "outputId": "d87d5fe8-70b1-4011-f1c6-2604db2d6990"
      },
      "outputs": [
        {
          "output_type": "stream",
          "name": "stdout",
          "text": [
            "\u001b[34m\u001b[1mwandb\u001b[0m: No netrc file found, creating one.\n",
            "\u001b[34m\u001b[1mwandb\u001b[0m: Appending key for api.wandb.ai to your netrc file: /root/.netrc\n",
            "\u001b[34m\u001b[1mwandb\u001b[0m: W&B API key is configured. Use \u001b[1m`wandb login --relogin`\u001b[0m to force relogin\n",
            "Using device: cpu\n"
          ]
        }
      ],
      "source": [
        "# We will use the following libraries in our examples:\n",
        "\n",
        "import numpy\n",
        "import torch\n",
        "import matplotlib.pyplot as plt\n",
        "import torch.nn.functional as F\n",
        "import torchvision.transforms as transforms\n",
        "import torch.optim as optim\n",
        "import torch.nn as nn\n",
        "\n",
        "from torchvision.datasets import MNIST\n",
        "from torch.utils.data import random_split\n",
        "from torch.utils.data import DataLoader\n",
        "\n",
        "import wandb\n",
        "\n",
        "!wandb login 2f4725bbec8770a63ad5cb3e1ff15f1e53b756f6\n",
        "\n",
        "torch.manual_seed(42)  # For reproducibility\n",
        "\n",
        "device = torch.device('cuda' if torch.cuda.is_available() else 'cpu')\n",
        "print(f'Using device: {device}')"
      ]
    },
    {
      "cell_type": "markdown",
      "id": "fa4990ee",
      "metadata": {
        "id": "fa4990ee"
      },
      "source": [
        "## Dataset Preparation\n",
        "\n",
        "PyTorch provides a convenient way to download and load a bunch of popular datasets:\n",
        "\n",
        "https://docs.pytorch.org/vision/main/datasets.html\n",
        "\n",
        "One of the most popular and simple datasets for image classification is the MNIST dataset, which contains images of handwritten digits (0-9). Each image is 28x28 pixels in size with a single color channel (grayscale) and is labeled with the corresponding digit. Because we are using the labeled version of the dataset, this is a `supervised learning` problem.\n",
        "\n",
        "To download and load the MNIST dataset, we can use the `torchvision.datasets.MNIST` class:\n",
        "\n",
        "https://docs.pytorch.org/vision/main/generated/torchvision.datasets.MNIST.html#torchvision.datasets.MNIST"
      ]
    },
    {
      "cell_type": "code",
      "execution_count": null,
      "id": "73f1c681",
      "metadata": {
        "colab": {
          "base_uri": "https://localhost:8080/"
        },
        "id": "73f1c681",
        "outputId": "87372cb9-3bc2-4609-9e65-293a77bf59e4"
      },
      "outputs": [
        {
          "output_type": "stream",
          "name": "stderr",
          "text": [
            "100%|██████████| 9.91M/9.91M [00:00<00:00, 137MB/s]\n",
            "100%|██████████| 28.9k/28.9k [00:00<00:00, 32.8MB/s]\n",
            "100%|██████████| 1.65M/1.65M [00:00<00:00, 91.8MB/s]\n",
            "100%|██████████| 4.54k/4.54k [00:00<00:00, 5.92MB/s]\n"
          ]
        },
        {
          "output_type": "stream",
          "name": "stdout",
          "text": [
            "60000\n"
          ]
        }
      ],
      "source": [
        "# We start by downloading the MNIST dataset.\n",
        "# Select the root directory where the dataset will be stored and set download=True to download the dataset if it's not already present.\n",
        "dataset = MNIST(root = 'data/', download = True)\n",
        "\n",
        "# Print the number of samples in the dataset\n",
        "print(len(dataset))"
      ]
    },
    {
      "cell_type": "markdown",
      "id": "756725ff",
      "metadata": {
        "id": "756725ff"
      },
      "source": [
        "Once we have the dataset, we can get the some basic information about it, such as the:\n",
        "- details of the single sample (simple printing the first element of the dataset)\n",
        "- type of the image (using 'type()' function)\n",
        "- shape of the image (using '.shape' attribute after converting the image to a numpy array)\n",
        "- label of the image (using the second element of the dataset tuple)\n",
        "\n",
        "Also, we can visualize a sample image using matplotlib's `plt.imshow` function (cmap='gray') along with its label using `plt.title` function.\n",
        "For visualization grid of images, we can use plt.subplots fuction to create a grid of subplots and then iterate through the dataset to display multiple images along with their labels.\n",
        "\n",
        "https://matplotlib.org/stable/api/_as_gen/matplotlib.pyplot.imshow.html\n",
        "\n",
        "https://matplotlib.org/stable/api/_as_gen/matplotlib.pyplot.subplots.html"
      ]
    },
    {
      "cell_type": "code",
      "execution_count": null,
      "id": "e265df3b",
      "metadata": {
        "colab": {
          "base_uri": "https://localhost:8080/",
          "height": 821
        },
        "id": "e265df3b",
        "outputId": "3ca3c0ae-96f9-4144-c69b-e1346801e0b0"
      },
      "outputs": [
        {
          "output_type": "stream",
          "name": "stdout",
          "text": [
            "First sample details: (<PIL.Image.Image image mode=L size=28x28 at 0x7C79FE3F3380>, 5)\n",
            "Type of the image: <class 'PIL.Image.Image'>\n",
            "Shape of the image: (28, 28)\n",
            "Label of the image: 5\n"
          ]
        },
        {
          "output_type": "display_data",
          "data": {
            "text/plain": [
              "<Figure size 900x900 with 9 Axes>"
            ],
            "image/png": "[encoded data removed]"
          },
          "metadata": {}
        }
      ],
      "source": [
        "print(\"First sample details:\", dataset[0])\n",
        "print(\"Type of the image:\", type(dataset[0][0]))\n",
        "print(\"Shape of the image:\", numpy.array(dataset[0][0]).shape)\n",
        "print(\"Label of the image:\", dataset[0][1])\n",
        "\n",
        "fig, ax = plt.subplots(3, 3, figsize = (9, 9))\n",
        "for i in range(3):\n",
        "    for j in range(3):\n",
        "        ax[i, j].imshow(dataset[i * 3 + j][0], cmap = 'gray')\n",
        "        ax[i, j].set_title(f'Label: {dataset[i * 3 + j][1]}')\n",
        "        ax[i, j].axis('off')\n",
        "plt.show()"
      ]
    },
    {
      "cell_type": "markdown",
      "id": "03336fb5",
      "metadata": {
        "id": "03336fb5"
      },
      "source": [
        "Now we can see on what type of data we are going to train our model. However, before training the model, we need to preprocess the data. The images in the MNIST dataset are in PIL format, so we need to convert them to PyTorch tensors. We can use the `transforms.ToTensor()` function from the `torchvision.transforms` module to achieve this.\n",
        "\n",
        "https://docs.pytorch.org/vision/main/generated/torchvision.transforms.ToTensor.html\n",
        "\n",
        "Based on this documentation, we can see that the `ToTensor()` function converts a PIL Image or numpy.ndarray (H x W x C) in the range [0, 255] to a torch.FloatTensor of shape (C x H x W) in the range [0.0, 1.0]. So it automatically scales the pixel values to the range [0.0, 1.0] which is a common preprocessing step for image data. It is better to scale the input data to a smaller range as it helps in faster convergence during training.\n"
      ]
    },
    {
      "cell_type": "code",
      "execution_count": null,
      "id": "e0996b2b",
      "metadata": {
        "colab": {
          "base_uri": "https://localhost:8080/"
        },
        "id": "e0996b2b",
        "outputId": "512cc3cc-91b2-44be-af90-b74a0c093dad"
      },
      "outputs": [
        {
          "output_type": "stream",
          "name": "stdout",
          "text": [
            "First sample details after ToTensor: <class 'torch.Tensor'> torch.Size([1, 28, 28]) 5\n"
          ]
        }
      ],
      "source": [
        "dataset = MNIST(root = 'data/', train = True, transform = transforms.ToTensor())\n",
        "\n",
        "print(\"First sample details after ToTensor:\", type(dataset[0][0]), dataset[0][0].shape, dataset[0][1])"
      ]
    },
    {
      "cell_type": "markdown",
      "id": "b6c6e04c",
      "metadata": {
        "id": "b6c6e04c"
      },
      "source": [
        "This type of data are ready to be used for training our neural network model. However, we also need a validation/test set. We can generate a validation set by splitting the original training set into two parts: a smaller training set and a validation set. We can use the `random_split` function from the `torch.utils.data` module to achieve this. For testing, we can simply use the test set provided by the MNIST dataset (parameter `train=False`), hovewer for now we will use only train and validation.\n",
        "\n",
        "> Why we need a validation set? The validation set is used to evaluate the model during training. It helps to monitor the model's performance on unseen data and to prevent overfitting. Overfitting occurs when the model learns the training data too well and performs poorly on unseen data. By using a validation set, we can tune the model's hyperparameters and select the best model based on its performance on the validation set.\n",
        "\n",
        "Normally, we would also need a test set to evaluate the final model after training. However, for simplicity, we will skip the test set in this lab."
      ]
    },
    {
      "cell_type": "code",
      "execution_count": null,
      "id": "287dcaa3",
      "metadata": {
        "colab": {
          "base_uri": "https://localhost:8080/"
        },
        "id": "287dcaa3",
        "outputId": "cdc7969a-0020-4952-c795-05a4f4b055e4"
      },
      "outputs": [
        {
          "output_type": "stream",
          "name": "stdout",
          "text": [
            "Training samples: 48000, Testing samples: 12000\n"
          ]
        }
      ],
      "source": [
        "# We will split the dataset into training and validation sets with\n",
        "train_ds, val_ds = random_split(dataset, [48000, 12000])\n",
        "print(f'Training samples: {len(train_ds)}, Testing samples: {len(val_ds)}')"
      ]
    },
    {
      "cell_type": "markdown",
      "id": "13e41dec",
      "metadata": {
        "id": "13e41dec"
      },
      "source": [
        "Now, the last step in data preparation is to create data loaders for the training and validation sets. Data loaders are used to load the data in batches during training. We can use the `DataLoader` class from the `torch.utils.data` module to achieve this. We will set the batch size to 128 and shuffle only the training data.\n",
        "\n",
        "Batch size is the number of samples that will be propagated through the network at once. A larger batch size means that the model will be updated more frequently, which can lead to faster convergence. However, a larger batch size also requires more memory and can lead to overfitting. A smaller batch size means that the model will be updated less frequently, which can lead to slower convergence. However, a smaller batch size also requires less memory and can help to prevent overfitting. A common choice for batch size is 16, 32, 64, or 128.\n",
        "\n",
        "https://medium.com/thedeephub/optimizing-neural-network-training-understanding-batch-size-in-higher-dimensions-7687aa35cb6b"
      ]
    },
    {
      "cell_type": "code",
      "execution_count": null,
      "id": "938c0978",
      "metadata": {
        "colab": {
          "base_uri": "https://localhost:8080/"
        },
        "id": "938c0978",
        "outputId": "b12d64a7-df30-40ae-ad5d-b613cd74593e"
      },
      "outputs": [
        {
          "output_type": "stream",
          "name": "stdout",
          "text": [
            "Batch image tensor shape: torch.Size([128, 1, 28, 28])\n",
            "Batch label tensor shape: torch.Size([128])\n"
          ]
        }
      ],
      "source": [
        "# Create data loaders for the training and validation sets\n",
        "# We will set the batch size to 128 and shuffle only the training data.\n",
        "\n",
        "batch_size = 128\n",
        "train_loader = DataLoader(train_ds,\n",
        "                          batch_size,\n",
        "                          shuffle = True)\n",
        "\n",
        "val_loader = DataLoader(val_ds,\n",
        "                        batch_size)\n",
        "\n",
        "\n",
        "# Let's visualize a single batch of training data\n",
        "for images, labels in train_loader:\n",
        "    print(\"Batch image tensor shape:\", images.shape)\n",
        "    print(\"Batch label tensor shape:\", labels.shape)\n",
        "    break"
      ]
    },
    {
      "cell_type": "markdown",
      "id": "ce3da2b6",
      "metadata": {
        "id": "ce3da2b6"
      },
      "source": [
        "## Model Definition\n",
        "\n",
        "Now that we have prepared the dataset, we can define our neural network model. We will use a simple Multi-Layer Perceptron (MLP) architecture with two hidden layers. The simple overview of the architecture is shown below (source [link](https://towardsdatascience.com/creating-a-multilayer-perceptron-mlp-classifier-model-to-identify-handwritten-digits-9bac1b16fe10/)):\n",
        "\n",
        "<img src=\"https://raw.githubusercontent.com/vision-agh/DNN-Course-media/refs/heads/main/lab2_mlp/figures/overview.png\" alt=\"MLP Architecture for MNIST\" width=\"600\"/>\n",
        "\n",
        "\n",
        "The input layer will have 784 neurons (flatten 28x28 pixels) and the output layer will have 10 neurons (one for each digit class). We will use the ReLU activation function for the hidden layers and output values we will leave as it is. Sometimes, for multi-class classification problems, it is common to use the Softmax activation function in the output layer to convert the raw output scores into probabilities. However, in PyTorch, when using the `CrossEntropyLoss` function, it is not necessary to apply the Softmax activation function in the output layer. This is because `CrossEntropyLoss` combines both the LogSoftmax and Negative Log-Likelihood Loss (NLLLoss) in a single function. Therefore, we can directly use the raw output scores from the model as input to the `CrossEntropyLoss` function without applying Softmax.\n",
        "\n",
        "\n",
        "> **Why we need activation functions?** Activation functions introduce non-linearity into the model, allowing it to learn complex patterns in the data. Without activation functions, the model would simply be a linear transformation of the input data, which limits its ability to capture intricate relationships.\n",
        "\n",
        "We will define the model by creating a class that inherits from `nn.Module`. In the `__init__` method, we will define the layers of the model using `nn.Linear` for fully connected layers and `nn.ReLU` for the activation function (we can use torch.nn.functional.relu as well). In the `forward` method, we will define the forward pass of the model by applying the layers and activation functions in sequence. Importantly, we will flatten the input images from 28x28 to 784 using `x.view(-1, 28 * 28)` before passing them through the fully connected layers.\n",
        "\n",
        "https://docs.pytorch.org/docs/stable/generated/torch.nn.Linear.html\n",
        "\n",
        "https://docs.pytorch.org/docs/stable/generated/torch.nn.functional.relu.html\n",
        "\n",
        "\n",
        "For the number of neurons in the hidden layers, I leave it to you to experiment with different values. Importantly, the number of neurons in the hidden layers should be not to large to avoid overfitting and not too small to avoid underfitting (source: [Link](ttps://medium.com/greyatom/what-is-underfitting-and-overfitting-in-machine-learning-and-how-to-deal-with-it-6803a989c76)).\n",
        "\n",
        "<img src=\"https://raw.githubusercontent.com/vision-agh/DNN-Course-media/refs/heads/main/lab2_mlp/figures/overfitting.png\" alt=\"Overfitting vs Underfitting\" width=\"600\"/>\n",
        "\n",
        "To show the results for different architectures, I trained three different models with the following number of neurons in the hidden layers:\n",
        "- Small: 16 neurons in the first hidden layer and 16 neurons in the second hidden layer\n",
        "- Medium: 64 neurons in the first hidden layer and 64 neurons in the second hidden layer\n",
        "- Large: 4096 neurons in the first hidden layer and 4096 neurons in the second\n",
        "\n",
        "Results are shown in W&B dashboard. https://wandb.ai/deep-neural-network-course/lab2-mlp"
      ]
    },
    {
      "cell_type": "code",
      "execution_count": null,
      "id": "5103700d",
      "metadata": {
        "id": "5103700d",
        "outputId": "4b454750-526f-41b8-d51b-50272091bc3d",
        "colab": {
          "base_uri": "https://localhost:8080/"
        }
      },
      "outputs": [
        {
          "output_type": "stream",
          "name": "stdout",
          "text": [
            "MNISTModel(\n",
            "  (fc1): Linear(in_features=784, out_features=64, bias=True)\n",
            "  (fc2): Linear(in_features=64, out_features=64, bias=True)\n",
            "  (fc3): Linear(in_features=64, out_features=10, bias=True)\n",
            ")\n"
          ]
        }
      ],
      "source": [
        "class MNISTModel(nn.Module):\n",
        "    def __init__(self):\n",
        "        super(MNISTModel, self).__init__()\n",
        "        # Define the layers of the model\n",
        "        self.fc1 = nn.Linear(28 * 28, 64)\n",
        "        self.fc2 = nn.Linear(64, 64)\n",
        "        self.fc3 = nn.Linear(64, 10)\n",
        "\n",
        "    def forward(self, x):\n",
        "        x = x.view(-1, 28 * 28)     # Flatten the image\n",
        "        x = F.relu(self.fc1(x))     # First hidden layer with ReLU activation\n",
        "        x = F.relu(self.fc2(x))     # Second hidden layer with ReLU activation\n",
        "        x = self.fc3(x)             # Output layer\n",
        "        return x\n",
        "\n",
        "\n",
        "model = MNISTModel().to(device)     # Instantiate the model and move it to the appropriate device (CPU or GPU)\n",
        "print(model)                        # Print the model architecture"
      ]
    },
    {
      "cell_type": "markdown",
      "id": "6075b7ba",
      "metadata": {
        "id": "6075b7ba"
      },
      "source": [
        "## Learning Algorithm\n",
        "\n",
        "We already have prepared the dataset and defined the model. For the last step, we need to define the learning algorithm. The learning algorithm consists of three main components:\n",
        "1. Loss function\n",
        "2. Optimizer\n",
        "3. Training loop\n",
        "\n",
        "We will use the Cross-Entropy Loss function for multi-class classification problems. The Cross-Entropy Loss function measures the difference between the predicted probability distribution and the true probability distribution (one-hot encoded labels). It is commonly used for classification tasks where the output is a probability distribution over multiple classes. In simple terms, it quantifies how well the predicted probabilities match the actual class labels. The goal of training is to minimize this loss function.\n",
        "\n",
        "https://docs.pytorch.org/docs/stable/generated/torch.nn.CrossEntropyLoss.html\n",
        "\n",
        "We will use the Adam optimizer, which is an adaptive learning rate optimization algorithm that combines the benefits of both the AdaGrad and RMSProp algorithms. It computes individual adaptive learning rates for different parameters from estimates of first and second moments of the gradients. Adam is widely used in deep learning due to its efficiency and effectiveness in training deep neural networks. First important input of the Adam optimizer is the model parameters (model.parameters()) that we want to optimize. The second important input is the learning rate (lr), which controls how much to change the model parameters at each update step. A common choice for the learning rate is 0.01 - 0.001, but it can be adjusted based on the specific problem and dataset.\n",
        "\n",
        "https://docs.pytorch.org/docs/stable/generated/torch.optim.Adam.html"
      ]
    },
    {
      "cell_type": "code",
      "execution_count": null,
      "id": "748f0554",
      "metadata": {
        "id": "748f0554"
      },
      "outputs": [],
      "source": [
        "criterion = nn.CrossEntropyLoss()\n",
        "optimizer = optim.Adam(model.parameters(),\n",
        "                       lr = 0.01)"
      ]
    },
    {
      "cell_type": "markdown",
      "id": "348b7ef8",
      "metadata": {
        "id": "348b7ef8"
      },
      "source": [
        "As for the training loop, we will iterate over the training data for a specified number of epochs. In each epoch, we will perform the following steps:\n",
        "1. Set the model to training mode using `model.train()`.\n",
        "2. Iterate over the training data in batches using the training data loader.\n",
        "3. For each batch, perform the following steps:\n",
        "   - Zero the gradients of the optimizer using `optimizer.zero_grad()`.\n",
        "   - Perform the forward pass by passing the input data through the model to get the predictions.\n",
        "   - Compute the loss by comparing the predictions with the true labels using the loss function.\n",
        "   - Perform the backward pass by calling `loss.backward()` to compute the gradients of the loss with respect to the model parameters.\n",
        "   - Update the model parameters using `optimizer.step()` to apply the computed gradients.\n",
        "4. After each epoch, we will evaluate the model on the validation set to monitor its performance. We will set the model to evaluation mode using `model.eval()` and disable gradient computation using `with torch.no_grad()`.\n",
        "\n",
        "We will also log the training and validation loss and accuracy to W&B for tracking and visualization. For training loss, we will log the running average of the loss over the 100 batches. For validation loss, we will log the average loss and accuracy over the entire validation set."
      ]
    },
    {
      "cell_type": "code",
      "execution_count": null,
      "id": "15d43693",
      "metadata": {
        "id": "15d43693",
        "outputId": "2c8e82f7-2ab3-4e3c-ec33-22351d125c3a",
        "colab": {
          "base_uri": "https://localhost:8080/",
          "height": 1000
        }
      },
      "outputs": [
        {
          "output_type": "display_data",
          "data": {
            "text/plain": [
              "<IPython.core.display.HTML object>"
            ],
            "text/html": []
          },
          "metadata": {}
        },
        {
          "output_type": "display_data",
          "data": {
            "text/plain": [
              "<IPython.core.display.HTML object>"
            ],
            "text/html": [
              "Tracking run with wandb version 0.22.1"
            ]
          },
          "metadata": {}
        },
        {
          "output_type": "display_data",
          "data": {
            "text/plain": [
              "<IPython.core.display.HTML object>"
            ],
            "text/html": [
              "Run data is saved locally in <code>/content/wandb/run-20251006_113927-3exnrxwg</code>"
            ]
          },
          "metadata": {}
        },
        {
          "output_type": "display_data",
          "data": {
            "text/plain": [
              "<IPython.core.display.HTML object>"
            ],
            "text/html": [
              "Syncing run <strong><a href='https://wandb.ai/deep-neural-network-course/lab2-mlp/runs/3exnrxwg' target=\"_blank\">Roman Nowak medium</a></strong> to <a href='https://wandb.ai/deep-neural-network-course/lab2-mlp' target=\"_blank\">Weights & Biases</a> (<a href='https://wandb.me/developer-guide' target=\"_blank\">docs</a>)<br>"
            ]
          },
          "metadata": {}
        },
        {
          "output_type": "display_data",
          "data": {
            "text/plain": [
              "<IPython.core.display.HTML object>"
            ],
            "text/html": [
              " View project at <a href='https://wandb.ai/deep-neural-network-course/lab2-mlp' target=\"_blank\">https://wandb.ai/deep-neural-network-course/lab2-mlp</a>"
            ]
          },
          "metadata": {}
        },
        {
          "output_type": "display_data",
          "data": {
            "text/plain": [
              "<IPython.core.display.HTML object>"
            ],
            "text/html": [
              " View run at <a href='https://wandb.ai/deep-neural-network-course/lab2-mlp/runs/3exnrxwg' target=\"_blank\">https://wandb.ai/deep-neural-network-course/lab2-mlp/runs/3exnrxwg</a>"
            ]
          },
          "metadata": {}
        },
        {
          "output_type": "stream",
          "name": "stdout",
          "text": [
            "[Epoch 1, Batch 100] loss: 0.025\n",
            "[Epoch 1, Batch 200] loss: 0.038\n",
            "[Epoch 1, Batch 300] loss: 0.050\n",
            "Val Loss: 0.261, Accuracy: 96.60%\n",
            "[Epoch 2, Batch 100] loss: 0.048\n",
            "[Epoch 2, Batch 200] loss: 0.038\n",
            "[Epoch 2, Batch 300] loss: 0.057\n",
            "Val Loss: 0.289, Accuracy: 96.27%\n",
            "[Epoch 3, Batch 100] loss: 0.030\n",
            "[Epoch 3, Batch 200] loss: 0.048\n",
            "[Epoch 3, Batch 300] loss: 0.056\n",
            "Val Loss: 0.296, Accuracy: 96.51%\n",
            "[Epoch 4, Batch 100] loss: 0.045\n",
            "[Epoch 4, Batch 200] loss: 0.043\n",
            "[Epoch 4, Batch 300] loss: 0.054\n",
            "Val Loss: 0.284, Accuracy: 96.45%\n",
            "[Epoch 5, Batch 100] loss: 0.031\n",
            "[Epoch 5, Batch 200] loss: 0.040\n",
            "[Epoch 5, Batch 300] loss: 0.049\n",
            "Val Loss: 0.274, Accuracy: 96.65%\n",
            "[Epoch 6, Batch 100] loss: 0.034\n",
            "[Epoch 6, Batch 200] loss: 0.038\n",
            "[Epoch 6, Batch 300] loss: 0.045\n",
            "Val Loss: 0.310, Accuracy: 96.48%\n",
            "[Epoch 7, Batch 100] loss: 0.039\n",
            "[Epoch 7, Batch 200] loss: 0.043\n",
            "[Epoch 7, Batch 300] loss: 0.042\n",
            "Val Loss: 0.283, Accuracy: 96.71%\n",
            "[Epoch 8, Batch 100] loss: 0.033\n",
            "[Epoch 8, Batch 200] loss: 0.045\n",
            "[Epoch 8, Batch 300] loss: 0.042\n",
            "Val Loss: 0.304, Accuracy: 96.43%\n",
            "[Epoch 9, Batch 100] loss: 0.032\n",
            "[Epoch 9, Batch 200] loss: 0.034\n",
            "[Epoch 9, Batch 300] loss: 0.052\n",
            "Val Loss: 0.347, Accuracy: 96.10%\n",
            "[Epoch 10, Batch 100] loss: 0.058\n",
            "[Epoch 10, Batch 200] loss: 0.052\n",
            "[Epoch 10, Batch 300] loss: 0.036\n",
            "Val Loss: 0.372, Accuracy: 96.29%\n",
            "[Epoch 11, Batch 100] loss: 0.036\n",
            "[Epoch 11, Batch 200] loss: 0.031\n",
            "[Epoch 11, Batch 300] loss: 0.028\n",
            "Val Loss: 0.297, Accuracy: 96.51%\n",
            "[Epoch 12, Batch 100] loss: 0.030\n",
            "[Epoch 12, Batch 200] loss: 0.031\n",
            "[Epoch 12, Batch 300] loss: 0.037\n",
            "Val Loss: 0.301, Accuracy: 96.53%\n",
            "[Epoch 13, Batch 100] loss: 0.039\n",
            "[Epoch 13, Batch 200] loss: 0.033\n",
            "[Epoch 13, Batch 300] loss: 0.036\n",
            "Val Loss: 0.284, Accuracy: 96.77%\n",
            "[Epoch 14, Batch 100] loss: 0.033\n",
            "[Epoch 14, Batch 200] loss: 0.037\n",
            "[Epoch 14, Batch 300] loss: 0.044\n",
            "Val Loss: 0.309, Accuracy: 96.60%\n",
            "[Epoch 15, Batch 100] loss: 0.039\n",
            "[Epoch 15, Batch 200] loss: 0.035\n",
            "[Epoch 15, Batch 300] loss: 0.039\n",
            "Val Loss: 0.327, Accuracy: 96.49%\n",
            "[Epoch 16, Batch 100] loss: 0.028\n",
            "[Epoch 16, Batch 200] loss: 0.038\n",
            "[Epoch 16, Batch 300] loss: 0.036\n",
            "Val Loss: 0.345, Accuracy: 96.31%\n",
            "[Epoch 17, Batch 100] loss: 0.040\n",
            "[Epoch 17, Batch 200] loss: 0.029\n",
            "[Epoch 17, Batch 300] loss: 0.030\n",
            "Val Loss: 0.361, Accuracy: 96.45%\n",
            "[Epoch 18, Batch 100] loss: 0.030\n",
            "[Epoch 18, Batch 200] loss: 0.040\n",
            "[Epoch 18, Batch 300] loss: 0.041\n",
            "Val Loss: 0.401, Accuracy: 96.48%\n",
            "[Epoch 19, Batch 100] loss: 0.042\n",
            "[Epoch 19, Batch 200] loss: 0.062\n",
            "[Epoch 19, Batch 300] loss: 0.059\n",
            "Val Loss: 0.337, Accuracy: 96.72%\n",
            "[Epoch 20, Batch 100] loss: 0.037\n",
            "[Epoch 20, Batch 200] loss: 0.034\n",
            "[Epoch 20, Batch 300] loss: 0.037\n",
            "Val Loss: 0.303, Accuracy: 96.42%\n",
            "[Epoch 21, Batch 100] loss: 0.029\n",
            "[Epoch 21, Batch 200] loss: 0.032\n",
            "[Epoch 21, Batch 300] loss: 0.039\n",
            "Val Loss: 0.371, Accuracy: 96.41%\n",
            "[Epoch 22, Batch 100] loss: 0.024\n",
            "[Epoch 22, Batch 200] loss: 0.024\n",
            "[Epoch 22, Batch 300] loss: 0.033\n",
            "Val Loss: 0.440, Accuracy: 96.39%\n",
            "[Epoch 23, Batch 100] loss: 0.044\n",
            "[Epoch 23, Batch 200] loss: 0.034\n",
            "[Epoch 23, Batch 300] loss: 0.042\n",
            "Val Loss: 0.348, Accuracy: 96.64%\n",
            "[Epoch 24, Batch 100] loss: 0.044\n",
            "[Epoch 24, Batch 200] loss: 0.049\n",
            "[Epoch 24, Batch 300] loss: 0.041\n",
            "Val Loss: 0.331, Accuracy: 96.76%\n",
            "[Epoch 25, Batch 100] loss: 0.017\n",
            "[Epoch 25, Batch 200] loss: 0.028\n",
            "[Epoch 25, Batch 300] loss: 0.047\n",
            "Val Loss: 0.395, Accuracy: 96.82%\n",
            "Finished Training\n"
          ]
        },
        {
          "output_type": "display_data",
          "data": {
            "text/plain": [
              "<IPython.core.display.HTML object>"
            ],
            "text/html": []
          },
          "metadata": {}
        },
        {
          "output_type": "display_data",
          "data": {
            "text/plain": [
              "<IPython.core.display.HTML object>"
            ],
            "text/html": [
              "<br>    <style><br>        .wandb-row {<br>            display: flex;<br>            flex-direction: row;<br>            flex-wrap: wrap;<br>            justify-content: flex-start;<br>            width: 100%;<br>        }<br>        .wandb-col {<br>            display: flex;<br>            flex-direction: column;<br>            flex-basis: 100%;<br>            flex: 1;<br>            padding: 10px;<br>        }<br>    </style><br><div class=\"wandb-row\"><div class=\"wandb-col\"><h3>Run history:</h3><br/><table class=\"wandb\"><tr><td>train/loss</td><td>▁▆▄█▂▅▇▂▄▆▄▅▅▃▅▂▂▂▃▄▃▅▄▃▂▄▂▂▄▅█▄▃▄▂▁▃▅▅▂</td></tr><tr><td>val/accuracy</td><td>▆▃▅▄▆▅▇▄▁▃▅▅█▆▅▃▄▅▇▄▄▄▆▇█</td></tr><tr><td>val/loss</td><td>▁▂▂▂▁▃▂▃▄▅▂▃▂▃▄▄▅▆▄▃▅█▄▄▆</td></tr></table><br/></div><div class=\"wandb-col\"><h3>Run summary:</h3><br/><table class=\"wandb\"><tr><td>train/loss</td><td>0.04734</td></tr><tr><td>val/accuracy</td><td>96.81667</td></tr><tr><td>val/loss</td><td>0.39464</td></tr></table><br/></div></div>"
            ]
          },
          "metadata": {}
        },
        {
          "output_type": "display_data",
          "data": {
            "text/plain": [
              "<IPython.core.display.HTML object>"
            ],
            "text/html": [
              " View run <strong style=\"color:#cdcd00\">Roman Nowak medium</strong> at: <a href='https://wandb.ai/deep-neural-network-course/lab2-mlp/runs/3exnrxwg' target=\"_blank\">https://wandb.ai/deep-neural-network-course/lab2-mlp/runs/3exnrxwg</a><br> View project at: <a href='https://wandb.ai/deep-neural-network-course/lab2-mlp' target=\"_blank\">https://wandb.ai/deep-neural-network-course/lab2-mlp</a><br>Synced 5 W&B file(s), 0 media file(s), 0 artifact file(s) and 0 other file(s)"
            ]
          },
          "metadata": {}
        },
        {
          "output_type": "display_data",
          "data": {
            "text/plain": [
              "<IPython.core.display.HTML object>"
            ],
            "text/html": [
              "Find logs at: <code>./wandb/run-20251006_113927-3exnrxwg/logs</code>"
            ]
          },
          "metadata": {}
        }
      ],
      "source": [
        "num_epochs = 25\n",
        "\n",
        "# Initialize a new W&B run\n",
        "\n",
        "wandb.init(\n",
        "        project=\"lab2-mlp\",                     # do not change this line !\n",
        "        entity=\"deep-neural-network-course\",    # do not change this line !\n",
        "        group=\"first_training\",                       # do not change this line !\n",
        "        name=\"Roman Nowak medium\",                  # change to your name\n",
        "        settings=wandb.Settings(save_code=False) # do not change this line !\n",
        ")\n",
        "\n",
        "# Training loop\n",
        "for epoch in range(num_epochs):                 # loop over the dataset multiple times\n",
        "\n",
        "    #  --------- Training phase -------- #\n",
        "    model.train()\n",
        "    running_loss = 0.0\n",
        "    for i, (inputs, labels) in enumerate(train_loader):\n",
        "        inputs, labels = inputs.to(device), labels.to(device)   # Move data to the appropriate device\n",
        "\n",
        "        optimizer.zero_grad()                                   # Zero the parameter gradients\n",
        "\n",
        "        outputs = model(inputs)                                 # Forward pass\n",
        "        loss = criterion(outputs, labels)                       # Compute the loss\n",
        "        loss.backward()                                         # Backward pass\n",
        "        optimizer.step()                                        # Update the weights\n",
        "\n",
        "        running_loss += loss.item()                             # Accumulate the loss\n",
        "\n",
        "        # Print statistics and log to W&B every 100 mini-batches\n",
        "        if i % 100 == 99:\n",
        "            print(f'[Epoch {epoch + 1}, Batch {i + 1}] loss: {running_loss / 100:.3f}')\n",
        "            wandb.log({\"train/loss\": running_loss / 100})\n",
        "            running_loss = 0.0\n",
        "\n",
        "    #  --------- Validation phase -------- #\n",
        "    model.eval()                                    # Set the model to evaluation mode\n",
        "    val_loss = 0.0\n",
        "    correct = 0\n",
        "    total = 0\n",
        "    with torch.no_grad():                           # Disable gradient calculation for validation\n",
        "        for inputs, labels in val_loader:\n",
        "            inputs, labels = inputs.to(device), labels.to(device)   # Move data to the appropriate device\n",
        "            outputs = model(inputs)                                 # Forward pass\n",
        "            loss = criterion(outputs, labels)                       # Compute the loss\n",
        "            val_loss += loss.item()                                 # Accumulate the loss\n",
        "\n",
        "            _, predicted = torch.max(outputs.data, 1)               # Get the predicted class (using torch.max())\n",
        "            total += labels.size(0)                                 # Update the total number of samples\n",
        "            correct += (predicted == labels).sum().item()           # Update the number of correct predictions\n",
        "\n",
        "    val_loss /= len(val_loader)\n",
        "    accuracy = 100 * correct / total\n",
        "    print(f'Val Loss: {val_loss:.3f}, Accuracy: {accuracy:.2f}%')\n",
        "    wandb.log({\"val/loss\": val_loss, \"val/accuracy\": accuracy})\n",
        "\n",
        "print('Finished Training')\n",
        "wandb.finish()"
      ]
    },
    {
      "cell_type": "markdown",
      "id": "cd5be32d",
      "metadata": {
        "id": "cd5be32d"
      },
      "source": [
        "After training the model, we can visualize few sample predictions on the validation set. We will display the images along with their predicted labels and true labels using matplotlib."
      ]
    },
    {
      "cell_type": "code",
      "execution_count": null,
      "id": "20701bc4",
      "metadata": {
        "id": "20701bc4",
        "outputId": "a94e7e2a-e632-4f96-940c-2a05ea4a8064",
        "colab": {
          "base_uri": "https://localhost:8080/",
          "height": 752
        }
      },
      "outputs": [
        {
          "output_type": "display_data",
          "data": {
            "text/plain": [
              "<Figure size 900x900 with 9 Axes>"
            ],
            "image/png": "[encoded data removed]"
          },
          "metadata": {}
        }
      ],
      "source": [
        "# Lets validate the model on a few samples from the validation set\n",
        "images, labels = next(iter(val_loader))\n",
        "images, labels = images.to(device), labels.to(device)\n",
        "outputs = model(images)\n",
        "_, predicted = torch.max(outputs, 1)\n",
        "\n",
        "# Let's visualize the results\n",
        "fig, ax = plt.subplots(3, 3, figsize = (9, 9))\n",
        "for i in range(3):\n",
        "    for j in range(3):\n",
        "        ax[i, j].imshow(images[i * 3 + j].cpu().squeeze(), cmap = 'gray')\n",
        "        ax[i, j].set_title(f'True: {labels[i * 3 + j].item()}, Pred: {predicted[i * 3 + j].item()}')\n",
        "        ax[i, j].axis('off')\n",
        "plt.show()"
      ]
    },
    {
      "cell_type": "markdown",
      "id": "2511710e",
      "metadata": {
        "id": "2511710e"
      },
      "source": [
        "Partially based on: https://medium.com/@waadlingaadil/learn-to-build-a-neural-network-from-scratch-yes-really-cac4ca457efc"
      ]
    }
  ],
  "metadata": {
    "kernelspec": {
      "display_name": "dnn",
      "language": "python",
      "name": "python3"
    },
    "language_info": {
      "codemirror_mode": {
        "name": "ipython",
        "version": 3
      },
      "file_extension": ".py",
      "mimetype": "text/x-python",
      "name": "python",
      "nbconvert_exporter": "python",
      "pygments_lexer": "ipython3",
      "version": "3.9.23"
    },
    "colab": {
      "provenance": []
    }
  },
  "nbformat": 4,
  "nbformat_minor": 5
}