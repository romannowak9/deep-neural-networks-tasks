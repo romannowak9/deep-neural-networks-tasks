{
  "cells": [
    {
      "cell_type": "markdown",
      "id": "ce1fa27b",
      "metadata": {
        "id": "ce1fa27b"
      },
      "source": [
        "# Lab 5 - our own Large (or not that large) Language Model (LLM)\n",
        "\n",
        "In this lab, we will build our own Large Language Model (LLM) from scratch … or, to be precise, a highly simplified version that will allow us to understand the basics without requiring enormous computational resources or massive datasets.\n",
        "\n",
        "We will of course use the transformer architecture, which we introduced in the previous class. But first, let’s go through some important concepts.\n",
        "\n",
        "\n",
        "What is a Language Model (LM)?\n",
        "\n",
        "A language model is a probabilistic model that operates on sequences of words or characters and predicts the next word or character in a sequence based on the previous ones. Language models are used in many natural language processing (NLP) applications, such as machine translation, speech recognition, text generation, and many others.\n",
        "\n",
        "In recent years, transformer-based language models have achieved remarkable results across a wide range of NLP tasks. These models are trained on massive text datasets and are capable of generating and understanding long and coherent texts.\n",
        "\n",
        "In this lab, however, we will focus on two main types of transformer-based language models:\n",
        "1. **Autoregressive Model**: This type of model generates text sequentially, predicting the next word based on the previous ones. An example is GPT (Generative Pre-trained Transformer), developed primarily by OpenAI. Autoregressive models are often used for tasks such as text generation, machine translation, and text completion.\n",
        "2. **Masked Language Model**: This type of model is trained to predict missing words in a sentence, where some words are “masked” (hidden). A well-known example is BERT (Bidirectional Encoder Representations from Transformers), developed by Google. Masked models are often used for tasks such as text classification, sentiment analysis, and question answering.\n",
        "\n",
        "\n",
        "How do these two models differ?\n",
        "\n",
        "The simplest difference lies in their architecture. Autoregressive models typically consist only of decoders, while masked models consist only of encoders. Of course, there are also hybrid approaches, such as T5 (Text-to-Text Transfer Transformer) and BART (Bidirectional and Auto-Regressive Transformers), which combine features of both. However, for the purpose of this lab, we will focus on the pure implementations.\n",
        "\n",
        "In autoregressive models (e.g. GPT), the decoder is trained to predict the next word in a sequence based on all previous words. To achieve this, masking is applied to prevent the decoder from accessing future words during training (causal masking, which we discussed in the previous class). During text generation, the model produces words one by one, using its previously generated output as context.\n",
        "\n",
        "In masked language models (e.g. BERT), the encoder is trained to predict masked words in a sentence by using context from both the left and the right. During training, some words are randomly masked, and the model learns to predict them based on the remaining words. Masked models are generally used for tasks that require understanding the full context of a sentence or document.\n",
        "\n",
        "<img src=https://raw.githubusercontent.com/vision-agh/DNN-Course-media/refs/heads/main/lab4_5_transformer/figures/gpt_vs_bert.png width=600>\n",
        "\n",
        "Although, based on what we have learned so far, we could implement both types of models, in this lab we will focus on the autoregressive model. It is more intuitive, easier to understand for beginners, and more interesting in the context of text generation.\n",
        "\n",
        "For those interested, I encourage you to explore and experiment with masked models such as BERT to broaden your knowledge of different language model architectures. For example, you can follow this tutorial: [link](https://medium.com/@adnanmasood/a-tiny-bert-style-model-from-scratch-a-detailed-exploration-5bc47d59bff5).\n",
        "\n",
        "Finally, the code below is partly adapted from this tutorial: [link](https://www.youtube.com/watch?v=kCc8FmEb1nY) and original paper [Attention is All You Need](https://arxiv.org/abs/1706.03762).\n"
      ]
    },
    {
      "cell_type": "markdown",
      "id": "ef22e173",
      "metadata": {
        "id": "ef22e173"
      },
      "source": [
        "## Import and Setup\n",
        "\n",
        "As usual, we start by importing the necessary libraries and setting up the device."
      ]
    },
    {
      "cell_type": "code",
      "execution_count": 3,
      "id": "f07235ad",
      "metadata": {
        "colab": {
          "base_uri": "https://localhost:8080/"
        },
        "id": "f07235ad",
        "outputId": "f2b46ec5-2df6-4a30-b447-e8e621c11d4d"
      },
      "outputs": [
        {
          "output_type": "stream",
          "name": "stdout",
          "text": [
            "Collecting PyMuPDF\n",
            "  Downloading pymupdf-1.26.5-cp39-abi3-manylinux_2_28_x86_64.whl.metadata (3.4 kB)\n",
            "Downloading pymupdf-1.26.5-cp39-abi3-manylinux_2_28_x86_64.whl (24.1 MB)\n",
            "\u001b[2K   \u001b[90m━━━━━━━━━━━━━━━━━━━━━━━━━━━━━━━━━━━━━━━━\u001b[0m \u001b[32m24.1/24.1 MB\u001b[0m \u001b[31m81.0 MB/s\u001b[0m eta \u001b[36m0:00:00\u001b[0m\n",
            "\u001b[?25hInstalling collected packages: PyMuPDF\n",
            "Successfully installed PyMuPDF-1.26.5\n",
            "\u001b[34m\u001b[1mwandb\u001b[0m: No netrc file found, creating one.\n",
            "\u001b[34m\u001b[1mwandb\u001b[0m: Appending key for api.wandb.ai to your netrc file: /root/.netrc\n",
            "\u001b[34m\u001b[1mwandb\u001b[0m: W&B API key is configured. Use \u001b[1m`wandb login --relogin`\u001b[0m to force relogin\n",
            "Using device: cuda\n"
          ]
        }
      ],
      "source": [
        "!pip install PyMuPDF\n",
        "\n",
        "import math\n",
        "import torch\n",
        "import torch.nn as nn\n",
        "import torch.nn.functional as F\n",
        "import matplotlib.pyplot as plt\n",
        "import os, glob\n",
        "\n",
        "from typing import Optional\n",
        "\n",
        "import wandb\n",
        "\n",
        "!wandb login 2f4725bbec8770a63ad5cb3e1ff15f1e53b756f6  # Log in to your W&B account\n",
        "\n",
        "torch.manual_seed(42)  # For reproducibility\n",
        "\n",
        "device = torch.device('cuda' if torch.cuda.is_available() else 'cpu')\n",
        "print(f'Using device: {device}')"
      ]
    },
    {
      "cell_type": "markdown",
      "id": "bec99c0a",
      "metadata": {
        "id": "bec99c0a"
      },
      "source": [
        "Since we are going to implement an autoregressive model, we will need to initialize and use the following components:\n",
        "\n",
        "1. `PositionalEncoding` class – for adding positional information to the input embeddings.\n",
        "2. `make_causal_mask` function - for creating a causal mask that prevents the model from attending to future tokens during training.\n",
        "3. `Head`, `MultiHeadAttention` and `DecoderBlock` classes - for constructing the architecture.\n",
        "\n",
        "If we prepared part1 correctly, we can simply import these components directly from part1.ipynb."
      ]
    },
    {
      "cell_type": "code",
      "execution_count": 4,
      "id": "400b9edd",
      "metadata": {
        "colab": {
          "base_uri": "https://localhost:8080/",
          "height": 487
        },
        "id": "400b9edd",
        "outputId": "98cf4fdd-c2dd-4417-c92e-c30a15c037c0"
      },
      "outputs": [
        {
          "output_type": "display_data",
          "data": {
            "text/plain": [
              "<Figure size 1000x500 with 2 Axes>"
            ],
            "image/png": "[encoded data removed]"
          },
          "metadata": {}
        }
      ],
      "source": [
        "# --- Positional Encoding ---\n",
        "class PositionalEncoding(nn.Module):\n",
        "    def __init__(self, d_model, max_len=5000):\n",
        "        super().__init__()\n",
        "        pe = torch.zeros(max_len, d_model)\n",
        "        pos = torch.arange(0, max_len, dtype=torch.float).unsqueeze(1)\n",
        "        div = torch.exp(torch.arange(0, d_model, 2).float() * (-math.log(10000.0) / d_model))\n",
        "        pe[:, 0::2] = torch.sin(pos * div)\n",
        "        pe[:, 1::2] = torch.cos(pos * div)\n",
        "        self.register_buffer(\"pe\", pe.unsqueeze(0))\n",
        "\n",
        "    def forward(self, x):\n",
        "        return x + self.pe[:, :x.size(1)]\n",
        "\n",
        "# Visualization of Positional Encoding\n",
        "def plot_positional_encoding(pe, max_len=200):\n",
        "    plt.figure(figsize=(10, 5))\n",
        "    plt.imshow(pe.pe[0, :max_len].cpu(), cmap='viridis', aspect='auto')\n",
        "    plt.colorbar()\n",
        "    plt.xlabel('Embedding Dimension')\n",
        "    plt.ylabel('Position')\n",
        "    plt.title('Positional Encoding')\n",
        "    plt.show()\n",
        "\n",
        "# Example usage and visualization\n",
        "d_model = 128\n",
        "pe = PositionalEncoding(d_model)\n",
        "plot_positional_encoding(pe, max_len=100)"
      ]
    },
    {
      "cell_type": "code",
      "execution_count": 5,
      "id": "56b78006",
      "metadata": {
        "id": "56b78006"
      },
      "outputs": [],
      "source": [
        "# --- Single Attention Head ---\n",
        "class Head(nn.Module):\n",
        "    def __init__(self, emb_size, head_size, dropout=0.0, bias=False):\n",
        "        super().__init__()\n",
        "        self.key   = nn.Linear(emb_size, head_size, bias)\n",
        "        self.query = nn.Linear(emb_size, head_size, bias)\n",
        "        self.value = nn.Linear(emb_size, head_size, bias)\n",
        "        self.scale = 1/math.sqrt(head_size)\n",
        "        self.dropout = nn.Dropout(dropout)\n",
        "        self.attn_weights = None\n",
        "\n",
        "    def forward(self, q, k, v, mask=None):\n",
        "        Q = self.query(q)\n",
        "        K = self.key(k)\n",
        "        V = self.value(v)\n",
        "        return self.scaled_dot_product_attention(Q, K, V, mask)\n",
        "\n",
        "    def scaled_dot_product_attention(self, Q, K, V, mask=None):\n",
        "        scores = torch.matmul(Q, K.transpose(-2, -1)) * self.scale\n",
        "        if mask is not None:\n",
        "            mask.to(device)\n",
        "            scores = scores.masked_fill(mask==0, float('-inf'))\n",
        "        attn = F.softmax(scores, dim=-1)\n",
        "        self.attn_weights = attn.detach().cpu()\n",
        "        attn = self.dropout(attn)\n",
        "        out = torch.matmul(attn, V)\n",
        "        return out"
      ]
    },
    {
      "cell_type": "code",
      "execution_count": 6,
      "id": "931a2cf2",
      "metadata": {
        "id": "931a2cf2"
      },
      "outputs": [],
      "source": [
        "# --- Multi-Head Attention ---\n",
        "class MultiHeadAttention(nn.Module):\n",
        "    def __init__(self, emb_size, num_heads, dropout=0.0, bias=False):\n",
        "        super().__init__()\n",
        "        assert emb_size % num_heads == 0\n",
        "        head_size = emb_size // num_heads\n",
        "        self.heads = nn.ModuleList([Head(emb_size, head_size, dropout=dropout, bias=bias) for _ in range(num_heads)])\n",
        "        self.linear = nn.Linear(head_size * num_heads, emb_size, bias)\n",
        "        self.dropout = nn.Dropout(dropout)\n",
        "\n",
        "    def forward(self, q, k, v, mask=None):\n",
        "        out = torch.cat([head(q, k, v, mask) for head in self.heads], -1)\n",
        "        out = self.linear(out)\n",
        "        return self.dropout(out)\n",
        "\n",
        "    def get_attention_maps(self):\n",
        "        return [h.attn_weights for h in self.heads if h.attn_weights is not None]"
      ]
    },
    {
      "cell_type": "code",
      "execution_count": 7,
      "id": "88fbea82",
      "metadata": {
        "id": "88fbea82"
      },
      "outputs": [],
      "source": [
        "# --- Decoder Block ---\n",
        "class DecoderBlock(nn.Module):\n",
        "    def __init__(self, emb_size, num_heads, dropout=0.0, expansion=4, use_cross_attn=False, bias=False):\n",
        "        super().__init__()\n",
        "        self.cross_attn = None\n",
        "        self.self_attn = MultiHeadAttention(emb_size, num_heads, dropout)\n",
        "        self.norm1 = nn.LayerNorm(emb_size)\n",
        "        if use_cross_attn:\n",
        "            self.cross_attn = MultiHeadAttention(emb_size, num_heads, dropout)\n",
        "            self.norm2 = nn.LayerNorm(emb_size)\n",
        "        self.norm3 = nn.LayerNorm(emb_size)\n",
        "        self.ff = nn.Sequential(\n",
        "            nn.Linear(emb_size, expansion * emb_size), nn.ReLU(), nn.Linear(emb_size * expansion, emb_size)\n",
        "        )\n",
        "\n",
        "    def forward(self, x,\n",
        "                enc_out: Optional[torch.Tensor]=None,\n",
        "                tgt_mask: Optional[torch.Tensor]=None):\n",
        "\n",
        "        if (self.cross_attn is None or self.cross_attn is False) and enc_out is not None:\n",
        "            raise ValueError(\"Cross-attention is not enabled in this DecoderBlock.\")\n",
        "\n",
        "        self_attn_out = self.self_attn(x, x, x, tgt_mask)\n",
        "        x = self.norm1(x + self_attn_out)\n",
        "\n",
        "        if enc_out is not None:\n",
        "            cross_attn_out = self.cross_attn(x, enc_out, enc_out)\n",
        "            x = self.norm2(x + cross_attn_out)\n",
        "\n",
        "        ff_out = self.ff(x)\n",
        "        x = self.norm3(x + ff_out)\n",
        "        return x"
      ]
    },
    {
      "cell_type": "code",
      "execution_count": 8,
      "id": "E4Fps_fwW8Jl",
      "metadata": {
        "id": "E4Fps_fwW8Jl"
      },
      "outputs": [],
      "source": [
        "def make_causal_mask(seq_len):\n",
        "    return torch.tril(torch.ones(seq_len, seq_len)).unsqueeze(0)"
      ]
    },
    {
      "cell_type": "markdown",
      "id": "6dcddbcb",
      "metadata": {
        "id": "6dcddbcb"
      },
      "source": [
        "## Now let's implement our own autoregressive Mini-GPT model\n",
        "\n",
        "We will now implement our own autoregressive Mini-GPT model using the components we have prepared earlier.\n",
        "\n",
        "Compared to our previous Transformer implementation, this model introduces one additional parameter — `block_size`, which defines the maximum sequence length that the model can handle. This parameter is crucial for autoregressive models because it determines how many previous tokens the model can consider when predicting the next one.\n",
        "\n",
        "If we allowed the model to use all previous tokens without any limit, we could quickly run into memory issues, especially for long sequences. The `block_size` acts as a sliding context window to keep computation and memory manageable.\n",
        "\n",
        "#### Text generation with generate()\n",
        "\n",
        "We will also implement a generate() method for text generation. This method will allow the model to produce text autoregressively — one token at a time — starting from an initial input sequence.\n",
        "\n",
        "In addition, we will use a `temperature` parameter to control the randomness of the predictions.\n",
        "- A higher `temperature` results in more random and creative outputs.\n",
        "- A lower `temperature` makes the model’s predictions more focused and deterministic.\n",
        "\n",
        "> How does it work?\n",
        "> Once we obtain the model’s output logits, we can convert them into probabilities using the softmax function. The temperature is applied by dividing the logits by the temperature value before softmax.\n",
        "\n",
        "After obtaining the probability distribution, we sample from it to select the next token.\n",
        "\n",
        "For example, if the logits for the next token are [2.0, 1.0, 0.1] and the temperature is set to 0.5, the scaled logits become [4.0, 2.0, 0.2].\n",
        "Applying softmax to these scaled values results in a probability distribution that is more concentrated on the highest value — making it more likely that the token corresponding to the largest logit will be selected.\n",
        "\n",
        "- `__init_`:\n",
        "    - Initializes the parameter `block_size`.\n",
        "    - Initializes token and positional embeddings.\n",
        "    - Creates a list of decoder blocks (note that `use_cross_attn=False`, since we use only the decoder architecture).\n",
        "    - Adds a final linear layer to project the decoder output to the vocabulary size.\n",
        "\n",
        "- `forward`:\n",
        "    Similar to the previous Transformer implementation:\n",
        "    1. The input sequence `src` is passed through the embedding layer, positional encoding, and then through the decoder blocks. Since this is a decoder-only model, we use a `causal mask` and set `enc_out=None`.\n",
        "    2. The output is projected to the vocabulary dimension using the final linear layer.\n",
        "    3. We compute the cross-entropy loss inside the model for convenience.\n",
        "        - If `targets` is None, the loss is set to None.\n",
        "        - Otherwise, the predicted logits and target tokens are reshaped to match the expected format for `F.cross_entropy`:\n",
        "            - `logits` -> shape `(batch_size * seq_len, vocab_size)`\n",
        "            - `targets` -> shape `(batch_size * seq_len)`\n",
        "    4. The forward() method returns both the logits and the loss.\n",
        "\n",
        "- `generate`:\n",
        "    This method generates text autoregressively.\n",
        "    1. It takes an initial input sequence `src` and generates `max_new_tokens` additional tokens.\n",
        "    2. For each iteration:\n",
        "        - Slice the input to ensure it does not exceed `block_size` (src[:, -self.block_size:] works even when shorter).\n",
        "        - Create a causal mask for the current sequence length.\n",
        "        - Pass the current input and mask to the model to obtain logits.\n",
        "        - Extract the logits for the last token in the sequence (`logits[:, -1, :]`) and divide them by the temperature to adjust randomness.\n",
        "        - If `top_k` is specified, apply top-k filtering to keep only the top `k` most likely tokens, setting the rest to negative infinity:\n",
        "\n",
        "            ```python\n",
        "            v, _ = torch.topk(logits, top_k)\n",
        "            logits[logits < v[:, [-1]]] = -float('Inf')\n",
        "            ```\n",
        "        - Apply softmax to obtain a probability distribution over the vocabulary.\n",
        "        - Sample the next token from this distribution using `torch.multinomial`.\n",
        "        - Concatenate the sampled token to `src` for the next iteration.\n",
        "    3. Finally, the method returns the extended sequence containing both the original and generated tokens.    "
      ]
    },
    {
      "cell_type": "code",
      "execution_count": 9,
      "id": "8ec223f3",
      "metadata": {
        "id": "8ec223f3"
      },
      "outputs": [],
      "source": [
        "# --- MiniGPT model ---\n",
        "class MiniGPT(nn.Module):\n",
        "    def __init__(self, voc_size, emb_size=64, num_heads=2, num_layers=1, block_size=32, use_cross_attn=False):\n",
        "        super().__init__()\n",
        "        self.block_size = block_size\n",
        "        self.token_emb = nn.Embedding(voc_size, emb_size)\n",
        "        self.pos_emb = PositionalEncoding(emb_size)\n",
        "\n",
        "        self.blocks = nn.ModuleList([DecoderBlock(emb_size, num_heads, use_cross_attn=False) for _ in range(num_layers)])\n",
        "        self.fc_out = nn.Linear(emb_size, voc_size)\n",
        "\n",
        "    def forward(self, src, targets=None, mask=None):\n",
        "        src = self.pos_emb(self.token_emb(src))\n",
        "        for block in self.blocks:\n",
        "            src = block(src, enc_out=None, tgt_mask=mask)\n",
        "        logits = self.fc_out(src)\n",
        "        if targets is None:\n",
        "            return logits, None\n",
        "        else:\n",
        "            B, T, C = logits.shape  # batch_size, seq_len, vocab_size\n",
        "            logits = torch.reshape(logits, (B * T, C))\n",
        "            targets = torch.reshape(targets, (B * T,))\n",
        "            loss = F.cross_entropy(logits, targets)\n",
        "            return logits, loss\n",
        "\n",
        "    def generate(self, src, max_new_tokens, temperature=1.0, top_k=None):\n",
        "        for _ in range(max_new_tokens):\n",
        "            # 1. Loop for the number of new tokens to generate\n",
        "            src_cut = src[:, -self.block_size:]  # 2. Crop src to the last block_size tokens\n",
        "            T = src_cut.size(1)  # 3. Get the current sequence length T\n",
        "            mask = make_causal_mask(T).to(src.device)  # 4. Create a causal mask for the current sequence length T\n",
        "            logits, _ = self.forward(src_cut, mask=mask)  # 5. Forward pass through the model to get logits\n",
        "            logits = logits[:, -1, :] / temperature  # 6. Focus on the last time step and apply temperature scaling\n",
        "            if top_k is not None:  # 7. If top_k is specified, filter logits to keep only the top_k highest values\n",
        "                v, _ = torch.topk(logits, top_k)  #    - Get the top_k values and their indices\n",
        "                logits[logits < v[:, [-1]]] = -float('Inf')  #    - Set logits below the top_k threshold to -Inf\n",
        "            probs = F.softmax(logits, dim=-1)  # 8. Apply softmax to obtain a probability distribution over the vocabulary\n",
        "            next_token = torch.multinomial(probs, num_samples=1)  # 9. Sample the next token from this distribution using torch.multinomial\n",
        "            src = torch.cat((src, next_token), dim=1)  # 10. Concatenate the sampled token to src for the next iteration\n",
        "        return src"
      ]
    },
    {
      "cell_type": "markdown",
      "id": "88f8e53e",
      "metadata": {
        "id": "88f8e53e"
      },
      "source": [
        "Now that we have our model implemented, we can proceed to prepare the dataset and train it on some text data. We could use any publicly available text dataset already prepared for language modeling, but that would be too easy. Instead, we’ll create our own small dataset based on the poems of Adam Mickiewicz, one of the greatest Polish poets.\n",
        "\n",
        "Although the dataset will be relatively small, it should be sufficient for our educational purposes. It will consist of the following works:\n",
        "\n",
        "1. \"Pan Tadeusz\"\n",
        "2. \"Dziady\" part II\n",
        "3. \"Dziady\" part III\n",
        "3. \"Dziady\" part IV\n",
        "\n",
        "All these poems are available in PDF format from [Wolne Lektury](https://wolnelektury.pl/katalog/autor/adam-mickiewicz/). To read the PDFs and extract the text, we will use the PyMuPDF library (you need to install it if you do). To remove unnecessary content such as prefaces, introductions, and appendices, we will skip the first and last pages of each PDF document.\n",
        "\n",
        "Since the texts are in Polish, we must also ensure that our tokenizer correctly handles Polish characters. In some PDFs, Polish letters may be read incorrectly due to encoding issues, so we may need to remap them from UTF-8 to Latin-1. Additionally, we will remove page numbers and any other extraneous elements.\n",
        "\n",
        "To generate the dataset, we will extract the text from the PDFs, clean it by removing unwanted characters and lines, and concatenate all the content into a single string. This text will then serve as the input for creating a custom dataset to train our Mini-GPT model.\n",
        "\n",
        "Of course, you could use different text data in any language, but I encourage you to try this approach with other works as well. Just make sure the text is in the public domain or that you have the right to use it for your experiments."
      ]
    },
    {
      "cell_type": "code",
      "execution_count": 12,
      "id": "uszZY8PlcjRX",
      "metadata": {
        "colab": {
          "base_uri": "https://localhost:8080/",
          "height": 177
        },
        "id": "uszZY8PlcjRX",
        "outputId": "70869429-5b96-4641-9ffa-5782476fc902"
      },
      "outputs": [
        {
          "output_type": "display_data",
          "data": {
            "text/plain": [
              "<IPython.core.display.HTML object>"
            ],
            "text/html": [
              "\n",
              "     <input type=\"file\" id=\"files-3bbb0341-0a2c-444c-b4ec-d1aa6d5f228f\" name=\"files[]\" multiple disabled\n",
              "        style=\"border:none\" />\n",
              "     <output id=\"result-3bbb0341-0a2c-444c-b4ec-d1aa6d5f228f\">\n",
              "      Upload widget is only available when the cell has been executed in the\n",
              "      current browser session. Please rerun this cell to enable.\n",
              "      </output>\n",
              "      <script>// Copyright 2017 Google LLC\n",
              "//\n",
              "// Licensed under the Apache License, Version 2.0 (the \"License\");\n",
              "// you may not use this file except in compliance with the License.\n",
              "// You may obtain a copy of the License at\n",
              "//\n",
              "//      http://www.apache.org/licenses/LICENSE-2.0\n",
              "//\n",
              "// Unless required by applicable law or agreed to in writing, software\n",
              "// distributed under the License is distributed on an \"AS IS\" BASIS,\n",
              "// WITHOUT WARRANTIES OR CONDITIONS OF ANY KIND, either express or implied.\n",
              "// See the License for the specific language governing permissions and\n",
              "// limitations under the License.\n",
              "\n",
              "/**\n",
              " * @fileoverview Helpers for google.colab Python module.\n",
              " */\n",
              "(function(scope) {\n",
              "function span(text, styleAttributes = {}) {\n",
              "  const element = document.createElement('span');\n",
              "  element.textContent = text;\n",
              "  for (const key of Object.keys(styleAttributes)) {\n",
              "    element.style[key] = styleAttributes[key];\n",
              "  }\n",
              "  return element;\n",
              "}\n",
              "\n",
              "// Max number of bytes which will be uploaded at a time.\n",
              "const MAX_PAYLOAD_SIZE = 100 * 1024;\n",
              "\n",
              "function _uploadFiles(inputId, outputId) {\n",
              "  const steps = uploadFilesStep(inputId, outputId);\n",
              "  const outputElement = document.getElementById(outputId);\n",
              "  // Cache steps on the outputElement to make it available for the next call\n",
              "  // to uploadFilesContinue from Python.\n",
              "  outputElement.steps = steps;\n",
              "\n",
              "  return _uploadFilesContinue(outputId);\n",
              "}\n",
              "\n",
              "// This is roughly an async generator (not supported in the browser yet),\n",
              "// where there are multiple asynchronous steps and the Python side is going\n",
              "// to poll for completion of each step.\n",
              "// This uses a Promise to block the python side on completion of each step,\n",
              "// then passes the result of the previous step as the input to the next step.\n",
              "function _uploadFilesContinue(outputId) {\n",
              "  const outputElement = document.getElementById(outputId);\n",
              "  const steps = outputElement.steps;\n",
              "\n",
              "  const next = steps.next(outputElement.lastPromiseValue);\n",
              "  return Promise.resolve(next.value.promise).then((value) => {\n",
              "    // Cache the last promise value to make it available to the next\n",
              "    // step of the generator.\n",
              "    outputElement.lastPromiseValue = value;\n",
              "    return next.value.response;\n",
              "  });\n",
              "}\n",
              "\n",
              "/**\n",
              " * Generator function which is called between each async step of the upload\n",
              " * process.\n",
              " * @param {string} inputId Element ID of the input file picker element.\n",
              " * @param {string} outputId Element ID of the output display.\n",
              " * @return {!Iterable<!Object>} Iterable of next steps.\n",
              " */\n",
              "function* uploadFilesStep(inputId, outputId) {\n",
              "  const inputElement = document.getElementById(inputId);\n",
              "  inputElement.disabled = false;\n",
              "\n",
              "  const outputElement = document.getElementById(outputId);\n",
              "  outputElement.innerHTML = '';\n",
              "\n",
              "  const pickedPromise = new Promise((resolve) => {\n",
              "    inputElement.addEventListener('change', (e) => {\n",
              "      resolve(e.target.files);\n",
              "    });\n",
              "  });\n",
              "\n",
              "  const cancel = document.createElement('button');\n",
              "  inputElement.parentElement.appendChild(cancel);\n",
              "  cancel.textContent = 'Cancel upload';\n",
              "  const cancelPromise = new Promise((resolve) => {\n",
              "    cancel.onclick = () => {\n",
              "      resolve(null);\n",
              "    };\n",
              "  });\n",
              "\n",
              "  // Wait for the user to pick the files.\n",
              "  const files = yield {\n",
              "    promise: Promise.race([pickedPromise, cancelPromise]),\n",
              "    response: {\n",
              "      action: 'starting',\n",
              "    }\n",
              "  };\n",
              "\n",
              "  cancel.remove();\n",
              "\n",
              "  // Disable the input element since further picks are not allowed.\n",
              "  inputElement.disabled = true;\n",
              "\n",
              "  if (!files) {\n",
              "    return {\n",
              "      response: {\n",
              "        action: 'complete',\n",
              "      }\n",
              "    };\n",
              "  }\n",
              "\n",
              "  for (const file of files) {\n",
              "    const li = document.createElement('li');\n",
              "    li.append(span(file.name, {fontWeight: 'bold'}));\n",
              "    li.append(span(\n",
              "        `(${file.type || 'n/a'}) - ${file.size} bytes, ` +\n",
              "        `last modified: ${\n",
              "            file.lastModifiedDate ? file.lastModifiedDate.toLocaleDateString() :\n",
              "                                    'n/a'} - `));\n",
              "    const percent = span('0% done');\n",
              "    li.appendChild(percent);\n",
              "\n",
              "    outputElement.appendChild(li);\n",
              "\n",
              "    const fileDataPromise = new Promise((resolve) => {\n",
              "      const reader = new FileReader();\n",
              "      reader.onload = (e) => {\n",
              "        resolve(e.target.result);\n",
              "      };\n",
              "      reader.readAsArrayBuffer(file);\n",
              "    });\n",
              "    // Wait for the data to be ready.\n",
              "    let fileData = yield {\n",
              "      promise: fileDataPromise,\n",
              "      response: {\n",
              "        action: 'continue',\n",
              "      }\n",
              "    };\n",
              "\n",
              "    // Use a chunked sending to avoid message size limits. See b/62115660.\n",
              "    let position = 0;\n",
              "    do {\n",
              "      const length = Math.min(fileData.byteLength - position, MAX_PAYLOAD_SIZE);\n",
              "      const chunk = new Uint8Array(fileData, position, length);\n",
              "      position += length;\n",
              "\n",
              "      const base64 = btoa(String.fromCharCode.apply(null, chunk));\n",
              "      yield {\n",
              "        response: {\n",
              "          action: 'append',\n",
              "          file: file.name,\n",
              "          data: base64,\n",
              "        },\n",
              "      };\n",
              "\n",
              "      let percentDone = fileData.byteLength === 0 ?\n",
              "          100 :\n",
              "          Math.round((position / fileData.byteLength) * 100);\n",
              "      percent.textContent = `${percentDone}% done`;\n",
              "\n",
              "    } while (position < fileData.byteLength);\n",
              "  }\n",
              "\n",
              "  // All done.\n",
              "  yield {\n",
              "    response: {\n",
              "      action: 'complete',\n",
              "    }\n",
              "  };\n",
              "}\n",
              "\n",
              "scope.google = scope.google || {};\n",
              "scope.google.colab = scope.google.colab || {};\n",
              "scope.google.colab._files = {\n",
              "  _uploadFiles,\n",
              "  _uploadFilesContinue,\n",
              "};\n",
              "})(self);\n",
              "</script> "
            ]
          },
          "metadata": {}
        },
        {
          "output_type": "stream",
          "name": "stdout",
          "text": [
            "Saving dziady2.pdf to dziady2.pdf\n",
            "Saving dziady3.pdf to dziady3.pdf\n",
            "Saving dziady4.pdf to dziady4.pdf\n",
            "Saving tadeusz.pdf to tadeusz.pdf\n"
          ]
        }
      ],
      "source": [
        "from google.colab import files\n",
        "# uploaded = files.upload()"
      ]
    },
    {
      "cell_type": "code",
      "execution_count": 13,
      "id": "5e47a97d",
      "metadata": {
        "id": "5e47a97d",
        "colab": {
          "base_uri": "https://localhost:8080/"
        },
        "outputId": "93ebd35a-510e-4243-f277-a5048ec2a45c"
      },
      "outputs": [
        {
          "output_type": "stream",
          "name": "stdout",
          "text": [
            "KSIĘGA PIERWSZA\n",
            "Gospodarstwo\n",
            "Powrót panicza — Spotkanie się pierwsze w pokoiku, drugie u stołu — Ważna\n",
            "Sędziego nauka o grzeczności — Podkomorzego uwagi polityczne nad modami\n",
            "— Początek sporu o Kusego i Sokoła — Żale Wojskiego — Ostatni Woźny\n",
            "Trybunału — Rzut oka na ówczesny stan polityczny Litwy i Europy\n",
            "Litwo! Ojczyzno moja! ty jesteś jak zdrowie:\n",
            "Ile cię trzeba cenić, ten tylko się dowie,\n",
            "Kto cię stracił. Dziś piękność twą w całej ozdobie\n",
            "Widzę i opisuję, bo tęsknię po tobie.\n",
            "Panno święta, co Jasnej bronisz Częstochowy\n",
            "I w Ostrej świecisz Bramie! Ty, co gród zamkowy\n",
            "Nowogródzki ochraniasz z jego wiernym ludem!\n",
            "Jak mnie dziecko do zdrowia powróciłaś cudem\n",
            "(Gdy od płaczącej matki, pod Twoją opiekę\n",
            "Ofiarowany, martwą podniosłem powiekę;\n",
            "I zaraz mogłem pieszo, do Twych świątyń progu\n",
            "Iść za wrócone życie podziękować Bogu),\n",
            "Tak nas powrócisz cudem na Ojczyzny łono.\n",
            "Tymczasem przenoś moją duszę utęsknioną\n",
            "Do tych pagórków leśnych, do tych łąk zielonych,\n",
            "Szeroko nad błękitnym Niemnem rozcią\n",
            "--------------------\n",
            "Size of the text: 651513\n"
          ]
        }
      ],
      "source": [
        "import fitz\n",
        "\n",
        "def read_pdf_fixed(path):\n",
        "    doc = fitz.open(path)\n",
        "    text = \"\"\n",
        "    for page in doc[1:-1]:                  # skip first and last page\n",
        "        page_text = page.get_text(\"text\")\n",
        "        if page_text:\n",
        "            text += page_text + \"\\n\"\n",
        "\n",
        "    # mapping of bad characters to good ones\n",
        "    mapping = {\n",
        "        \"Ê\": \"Ę\", \"ê\": \"ę\",\n",
        "        \"Œ\": \"Ś\", \"œ\": \"ś\",\n",
        "        \"³\": \"ł\", \"£\": \"Ł\",\n",
        "        \"¯\": \"Ż\", \"¿\": \"ż\",\n",
        "        \"Ÿ\": \"Ź\", \"ÿ\": \"ź\",\n",
        "        \"ñ\": \"ń\", \"Ñ\": \"Ń\",\n",
        "        \"¹\": \"ą\", \"¡\": \"Ą\",\n",
        "        \"æ\": \"ć\", \"Æ\": \"Ć\",\n",
        "        \"¢\": \"ó\",\n",
        "    }\n",
        "\n",
        "    # replace bad characters\n",
        "    for bad, good in mapping.items():\n",
        "        text = text.replace(bad, good)\n",
        "\n",
        "    lines = text.splitlines()\n",
        "    cleaned = []\n",
        "    for line in lines:\n",
        "        if line.strip().isdigit():          # remove page numbers\n",
        "            continue\n",
        "        cleaned.append(line)                # append cleaned line\n",
        "\n",
        "    return \"\\n\".join(cleaned)               # return cleaned text\n",
        "\n",
        "\n",
        "# --- Read and clean text from multiple PDF files ---\n",
        "text = \"\"\n",
        "for file in [\"/content/tadeusz.pdf\", \"/content/dziady2.pdf\", \"/content/dziady3.pdf\", \"/content/dziady4.pdf\"]:\n",
        "    text += read_pdf_fixed(file) + \"\\n\"\n",
        "\n",
        "\n",
        "# --- Print a snippet of the cleaned text and its length ---\n",
        "\n",
        "print(text[:1000])\n",
        "print(\"-\" * 20)\n",
        "print(\"Size of the text:\", len(text))"
      ]
    },
    {
      "cell_type": "markdown",
      "id": "aa02b1fb",
      "metadata": {
        "id": "aa02b1fb"
      },
      "source": [
        "### Hyperparameters and Data Preparation\n",
        "\n",
        "In this part, we define the main hyperparameters and prepare the dataset for training our Mini-GPT model.\n",
        "\n",
        "First, we set parameters such as the batch size, embedding dimension, number of attention heads and layers, and the `block_size`, which defines how many previous tokens the model can see when predicting the next one.\n",
        "\n",
        "Next, we create functions to **encode** text into integers and **decode** integers back into text.  \n",
        "We also build our vocabulary by finding all unique characters in the dataset.\n",
        "\n",
        "Then, we split the data into **training** and **validation** sets (90% / 10%).\n",
        "\n",
        "Finally, we define the `get_batch()` function, which randomly selects short sequences of tokens from the dataset.  \n",
        "For each batch:\n",
        "- `src` is the input sequence,  \n",
        "- `tgt` is the same sequence shifted one step ahead, so the model learns to predict the next token.\n"
      ]
    },
    {
      "cell_type": "code",
      "execution_count": 14,
      "id": "82d1f8f4",
      "metadata": {
        "id": "82d1f8f4",
        "colab": {
          "base_uri": "https://localhost:8080/"
        },
        "outputId": "ab28b29a-0175-4f86-e341-e94e0f606c08"
      },
      "outputs": [
        {
          "output_type": "stream",
          "name": "stdout",
          "text": [
            "tensor([ 1, 66, 52, 47, 69, 52, 62, 69,  1, 58, 61, 87, 68,  1, 69, 87, 58, 63,\n",
            "        48,  6,  1, 62, 61, 48, 45, 61, 57, 48, 16,  1, 50, 47, 68,  1, 63, 61,\n",
            "        85, 45, 44, 46, 69, 48,  0, 32, 58, 45, 64, 47, 54, 85,  1, 27, 58, 90,\n",
            "        46, 52, 64, 62, 69, 54, 58, 66, 62, 54])\n",
            "tensor([66, 52, 47, 69, 52, 62, 69,  1, 58, 61, 87, 68,  1, 69, 87, 58, 63, 48,\n",
            "         6,  1, 62, 61, 48, 45, 61, 57, 48, 16,  1, 50, 47, 68,  1, 63, 61, 85,\n",
            "        45, 44, 46, 69, 48,  0, 32, 58, 45, 64, 47, 54, 85,  1, 27, 58, 90, 46,\n",
            "        52, 64, 62, 69, 54, 58, 66, 62, 54, 81])\n",
            "--------------------\n",
            " widzisz orły złote, srebrne? gdy trębacze\n",
            "Pobudkę Kościuszkowsk\n",
            "widzisz orły złote, srebrne? gdy trębacze\n",
            "Pobudkę Kościuszkowską\n"
          ]
        }
      ],
      "source": [
        "# --- Hyperparameters ---\n",
        "\n",
        "batch_size = 16         # how many independent sequences will we process in parallel?\n",
        "emb_size = 128          # embedding dimension for each token ()\n",
        "num_heads = 8           # number of attention heads in each decoder block\n",
        "num_layers = 6          # number of decoder blocks\n",
        "block_size = 64         # maximum context length for predictions\n",
        "\n",
        "learning_rate = 1e-3    # learning rate\n",
        "max_iters = 5000        # number of training iterations\n",
        "eval_interval = 50      # interval for evaluation\n",
        "eval_iters = 200        # number of iterations for evaluation\n",
        "\n",
        "# --- Prepare the encode/decode functions ---\n",
        "\n",
        "uniq_chars = sorted(list(set(text)))            # get all unique characters that occur in this text\n",
        "vocab_size = len(uniq_chars)                    # the size of the vocabulary\n",
        "\n",
        "char2idx = { ch:i for i,ch in enumerate(uniq_chars) }       # mapping from characters to integers\n",
        "idx2char = { i:ch for i,ch in enumerate(uniq_chars) }       # mapping from integers to characters\n",
        "\n",
        "encode = lambda seq: [char2idx[c] for c in seq]             # encoder: take a string, output a list of integers\n",
        "decode = lambda seq: ''.join([idx2char[i] for i in seq])    # decoder: take a list of integers, output a string\n",
        "\n",
        "# --- Prepare the dataset ---\n",
        "\n",
        "data = torch.tensor(encode(text), dtype=torch.long)         # encode the entire text dataset and store it in a torch.Tensor\n",
        "split = int(0.9*len(data))\n",
        "train_data, val_data = data[:split], data[split:]           # split the data into train and validation sets\n",
        "\n",
        "# --- Function to get a batch of data ---\n",
        "def get_batch(split):\n",
        "    data = train_data if split == 'train' else val_data             # choose the dataset\n",
        "    ix = torch.randint(0, len(data) - block_size, (batch_size,))    # random starting indices for the batch (from 0 to len(data) - block_size)\n",
        "    src = data[ix.unsqueeze(1) + torch.arange(block_size)]          # get the sequences of length block_size for each index in the batch\n",
        "    tgt = data[ix.unsqueeze(1) + torch.arange(1, block_size + 1)]   # targets are the same as src but shifted by one position\n",
        "    return src, tgt\n",
        "\n",
        "src, tgt = get_batch('train')\n",
        "\n",
        "print(src[0])\n",
        "print(tgt[0])\n",
        "\n",
        "print(\"-\" * 20)\n",
        "\n",
        "print(decode(src[0].tolist()))\n",
        "print(decode(tgt[0].tolist()))"
      ]
    },
    {
      "cell_type": "markdown",
      "id": "017a6b15",
      "metadata": {
        "id": "017a6b15"
      },
      "source": [
        "### Model Initialization and Training Setup\n",
        "\n",
        "Here we create an instance of our **Mini-GPT** model and prepare the optimizer and learning rate scheduler.\n",
        "\n",
        "- The model is initialized with the vocabulary size and hyperparameters defined earlier, then moved to the selected device (CPU or GPU).\n",
        "- We use the **AdamW** optimizer, which is well-suited for training transformer-based models due to its weight decay regularization.\n",
        "- A **Cosine Annealing** learning rate scheduler gradually decreases the learning rate over time (`T_max = max_iters`), helping the model converge more smoothly during training.\n"
      ]
    },
    {
      "cell_type": "code",
      "execution_count": 15,
      "id": "a1d0b79b",
      "metadata": {
        "id": "a1d0b79b"
      },
      "outputs": [],
      "source": [
        "model = MiniGPT(vocab_size, emb_size, num_heads, num_layers, block_size).to(device)\n",
        "optimizer = torch.optim.AdamW(model.parameters(), lr=learning_rate)\n",
        "scheduler = torch.optim.lr_scheduler.CosineAnnealingLR(optimizer, T_max=max_iters)"
      ]
    },
    {
      "cell_type": "code",
      "execution_count": 16,
      "id": "b7487428",
      "metadata": {
        "id": "b7487428"
      },
      "outputs": [],
      "source": [
        "class Trainer():\n",
        "    def __init__(self,\n",
        "                 model,\n",
        "                 optimizer,\n",
        "                 scheduler,\n",
        "                 get_batch,\n",
        "                 make_causal_mask,\n",
        "                 device,\n",
        "                 max_iters=5000,\n",
        "                 eval_interval=50,\n",
        "                 eval_batches=10,          # number of batches to average during evaluation\n",
        "                 name=\"Roman Nowak\"):\n",
        "\n",
        "        self.model = model\n",
        "        self.optimizer = optimizer\n",
        "        self.scheduler = scheduler\n",
        "        self.get_batch = get_batch\n",
        "        self.make_causal_mask = make_causal_mask\n",
        "        self.device = device\n",
        "        self.max_iters = max_iters\n",
        "        self.eval_interval = eval_interval\n",
        "        self.eval_batches = eval_batches\n",
        "        self.name = name\n",
        "        self.best_val_loss = float('inf')\n",
        "\n",
        "    def training_step(self):\n",
        "        \"\"\"Perform one training step on a randomly sampled batch.\"\"\"\n",
        "        self.model.train()\n",
        "        src, target = self.get_batch('train')\n",
        "        mask = self.make_causal_mask(src.size(1))\n",
        "\n",
        "        src, target, mask = src.to(self.device), target.to(self.device), mask.to(self.device)\n",
        "\n",
        "        logits, loss = self.model(src, target, mask)\n",
        "\n",
        "        self.optimizer.zero_grad()\n",
        "        loss.backward()\n",
        "        self.optimizer.step()\n",
        "        self.scheduler.step()\n",
        "\n",
        "        return loss.item()\n",
        "\n",
        "    def evaluate(self):\n",
        "        \"\"\"Evaluate model performance on multiple validation batches.\"\"\"\n",
        "        self.model.eval()\n",
        "        total_loss = 0.0\n",
        "\n",
        "        with torch.no_grad():\n",
        "            for _ in range(self.eval_batches):\n",
        "                src, target = self.get_batch('val')\n",
        "                mask = self.make_causal_mask(src.size(1))\n",
        "                src, target, mask = src.to(self.device), target.to(self.device), mask.to(self.device)\n",
        "\n",
        "                _, val_loss = self.model(src, target, mask)\n",
        "                total_loss += val_loss.item()\n",
        "\n",
        "        avg_loss = total_loss / self.eval_batches\n",
        "        return avg_loss\n",
        "\n",
        "    def train(self):\n",
        "        \"\"\"Main training loop with Weights & Biases logging and model checkpointing.\"\"\"\n",
        "        wandb.init(\n",
        "            project=\"lab5-mini-gpt\",\n",
        "            entity=\"deep-neural-network-course\",\n",
        "            group=\"mini-gpt\",\n",
        "            name=self.name,\n",
        "            settings=wandb.Settings(save_code=False)\n",
        "        )\n",
        "        wandb.watch(self.model, log=\"all\")\n",
        "\n",
        "        for step in range(self.max_iters):\n",
        "            train_loss = self.training_step()\n",
        "            wandb.log({\"train/loss\": train_loss, \"lr\": self.scheduler.get_last_lr()[0]}, step=step)\n",
        "\n",
        "            if step % self.eval_interval == 0:\n",
        "                val_loss = self.evaluate()\n",
        "                wandb.log({\"val/loss\": val_loss}, step=step)\n",
        "                print(f\"Step [{step}/{self.max_iters}], Train Loss: {train_loss:.4f}, Val Loss: {val_loss:.4f}\")\n",
        "\n",
        "                # Save best model\n",
        "                if val_loss < self.best_val_loss:\n",
        "                    self.best_val_loss = val_loss\n",
        "                    torch.save(self.model.state_dict(), \"best_mini_gpt.pth\")\n",
        "                    print(f\"New best model saved (Val Loss: {self.best_val_loss:.4f})\")\n",
        "\n",
        "        wandb.unwatch(model)\n",
        "        wandb.finish()\n",
        "\n",
        "trainer = Trainer(model, optimizer, scheduler, get_batch, make_causal_mask, device, max_iters, eval_interval)"
      ]
    },
    {
      "cell_type": "code",
      "execution_count": 17,
      "id": "79ffb957",
      "metadata": {
        "id": "79ffb957",
        "colab": {
          "base_uri": "https://localhost:8080/",
          "height": 1000
        },
        "outputId": "3abd5685-26cc-48a2-85ec-953e064ea5b8"
      },
      "outputs": [
        {
          "metadata": {
            "tags": null
          },
          "name": "stderr",
          "output_type": "stream",
          "text": [
            "/usr/local/lib/python3.12/dist-packages/notebook/notebookapp.py:191: SyntaxWarning: invalid escape sequence '\\/'\n",
            "  | |_| | '_ \\/ _` / _` |  _/ -_)\n",
            "\u001b[34m\u001b[1mwandb\u001b[0m: Currently logged in as: \u001b[33mromannowak9\u001b[0m (\u001b[33mromannowak9-agh\u001b[0m) to \u001b[32mhttps://api.wandb.ai\u001b[0m. Use \u001b[1m`wandb login --relogin`\u001b[0m to force relogin\n"
          ]
        },
        {
          "data": {
            "text/html": [],
            "text/plain": [
              "<IPython.core.display.HTML object>"
            ]
          },
          "metadata": {},
          "output_type": "display_data"
        },
        {
          "data": {
            "text/html": [
              "Tracking run with wandb version 0.22.2"
            ],
            "text/plain": [
              "<IPython.core.display.HTML object>"
            ]
          },
          "metadata": {},
          "output_type": "display_data"
        },
        {
          "data": {
            "text/html": [
              "Run data is saved locally in <code>/content/wandb/run-20251016_093530-xb9lwnz7</code>"
            ],
            "text/plain": [
              "<IPython.core.display.HTML object>"
            ]
          },
          "metadata": {},
          "output_type": "display_data"
        },
        {
          "data": {
            "text/html": [
              "Syncing run <strong><a href='https://wandb.ai/deep-neural-network-course/lab5-mini-gpt/runs/xb9lwnz7' target=\"_blank\">Roman Nowak</a></strong> to <a href='https://wandb.ai/deep-neural-network-course/lab5-mini-gpt' target=\"_blank\">Weights & Biases</a> (<a href='https://wandb.me/developer-guide' target=\"_blank\">docs</a>)<br>"
            ],
            "text/plain": [
              "<IPython.core.display.HTML object>"
            ]
          },
          "metadata": {},
          "output_type": "display_data"
        },
        {
          "data": {
            "text/html": [
              " View project at <a href='https://wandb.ai/deep-neural-network-course/lab5-mini-gpt' target=\"_blank\">https://wandb.ai/deep-neural-network-course/lab5-mini-gpt</a>"
            ],
            "text/plain": [
              "<IPython.core.display.HTML object>"
            ]
          },
          "metadata": {},
          "output_type": "display_data"
        },
        {
          "data": {
            "text/html": [
              " View run at <a href='https://wandb.ai/deep-neural-network-course/lab5-mini-gpt/runs/xb9lwnz7' target=\"_blank\">https://wandb.ai/deep-neural-network-course/lab5-mini-gpt/runs/xb9lwnz7</a>"
            ],
            "text/plain": [
              "<IPython.core.display.HTML object>"
            ]
          },
          "metadata": {},
          "output_type": "display_data"
        },
        {
          "output_type": "stream",
          "name": "stdout",
          "text": [
            "Step [0/5000], Train Loss: 4.6486, Val Loss: 3.9970\n",
            "New best model saved (Val Loss: 3.9970)\n",
            "Step [50/5000], Train Loss: 2.6476, Val Loss: 2.6687\n",
            "New best model saved (Val Loss: 2.6687)\n",
            "Step [100/5000], Train Loss: 2.6521, Val Loss: 2.6208\n",
            "New best model saved (Val Loss: 2.6208)\n",
            "Step [150/5000], Train Loss: 2.5280, Val Loss: 2.5526\n",
            "New best model saved (Val Loss: 2.5526)\n",
            "Step [200/5000], Train Loss: 2.4616, Val Loss: 2.5170\n",
            "New best model saved (Val Loss: 2.5170)\n",
            "Step [250/5000], Train Loss: 2.4805, Val Loss: 2.4927\n",
            "New best model saved (Val Loss: 2.4927)\n",
            "Step [300/5000], Train Loss: 2.3963, Val Loss: 2.4331\n",
            "New best model saved (Val Loss: 2.4331)\n",
            "Step [350/5000], Train Loss: 2.3678, Val Loss: 2.3811\n",
            "New best model saved (Val Loss: 2.3811)\n",
            "Step [400/5000], Train Loss: 2.3956, Val Loss: 2.3692\n",
            "New best model saved (Val Loss: 2.3692)\n",
            "Step [450/5000], Train Loss: 2.2401, Val Loss: 2.2898\n",
            "New best model saved (Val Loss: 2.2898)\n",
            "Step [500/5000], Train Loss: 2.2655, Val Loss: 2.3114\n",
            "Step [550/5000], Train Loss: 2.2512, Val Loss: 2.2736\n",
            "New best model saved (Val Loss: 2.2736)\n",
            "Step [600/5000], Train Loss: 2.1364, Val Loss: 2.2539\n",
            "New best model saved (Val Loss: 2.2539)\n",
            "Step [650/5000], Train Loss: 2.0759, Val Loss: 2.2022\n",
            "New best model saved (Val Loss: 2.2022)\n",
            "Step [700/5000], Train Loss: 2.0963, Val Loss: 2.1645\n",
            "New best model saved (Val Loss: 2.1645)\n",
            "Step [750/5000], Train Loss: 2.1124, Val Loss: 2.1431\n",
            "New best model saved (Val Loss: 2.1431)\n",
            "Step [800/5000], Train Loss: 2.0112, Val Loss: 2.1552\n",
            "Step [850/5000], Train Loss: 2.0711, Val Loss: 2.0903\n",
            "New best model saved (Val Loss: 2.0903)\n",
            "Step [900/5000], Train Loss: 1.9950, Val Loss: 2.0747\n",
            "New best model saved (Val Loss: 2.0747)\n",
            "Step [950/5000], Train Loss: 1.8076, Val Loss: 2.0945\n",
            "Step [1000/5000], Train Loss: 1.9176, Val Loss: 2.0614\n",
            "New best model saved (Val Loss: 2.0614)\n",
            "Step [1050/5000], Train Loss: 2.1614, Val Loss: 2.0410\n",
            "New best model saved (Val Loss: 2.0410)\n",
            "Step [1100/5000], Train Loss: 1.8474, Val Loss: 2.0324\n",
            "New best model saved (Val Loss: 2.0324)\n",
            "Step [1150/5000], Train Loss: 1.9632, Val Loss: 2.0278\n",
            "New best model saved (Val Loss: 2.0278)\n",
            "Step [1200/5000], Train Loss: 1.9267, Val Loss: 2.0172\n",
            "New best model saved (Val Loss: 2.0172)\n",
            "Step [1250/5000], Train Loss: 1.9645, Val Loss: 1.9815\n",
            "New best model saved (Val Loss: 1.9815)\n",
            "Step [1300/5000], Train Loss: 1.8456, Val Loss: 1.9750\n",
            "New best model saved (Val Loss: 1.9750)\n",
            "Step [1350/5000], Train Loss: 1.9440, Val Loss: 1.9820\n",
            "Step [1400/5000], Train Loss: 1.9631, Val Loss: 2.0057\n",
            "Step [1450/5000], Train Loss: 1.9152, Val Loss: 1.9354\n",
            "New best model saved (Val Loss: 1.9354)\n",
            "Step [1500/5000], Train Loss: 1.8616, Val Loss: 1.9718\n",
            "Step [1550/5000], Train Loss: 1.8771, Val Loss: 1.9570\n",
            "Step [1600/5000], Train Loss: 1.6876, Val Loss: 1.9155\n",
            "New best model saved (Val Loss: 1.9155)\n",
            "Step [1650/5000], Train Loss: 1.7453, Val Loss: 1.9485\n",
            "Step [1700/5000], Train Loss: 1.7085, Val Loss: 1.9603\n",
            "Step [1750/5000], Train Loss: 1.8481, Val Loss: 1.9574\n",
            "Step [1800/5000], Train Loss: 1.7734, Val Loss: 1.9303\n",
            "Step [1850/5000], Train Loss: 1.7445, Val Loss: 1.9052\n",
            "New best model saved (Val Loss: 1.9052)\n",
            "Step [1900/5000], Train Loss: 1.7918, Val Loss: 1.8936\n",
            "New best model saved (Val Loss: 1.8936)\n",
            "Step [1950/5000], Train Loss: 1.8598, Val Loss: 1.8656\n",
            "New best model saved (Val Loss: 1.8656)\n",
            "Step [2000/5000], Train Loss: 1.6478, Val Loss: 1.8878\n",
            "Step [2050/5000], Train Loss: 1.7640, Val Loss: 1.9083\n",
            "Step [2100/5000], Train Loss: 1.6124, Val Loss: 1.8724\n",
            "Step [2150/5000], Train Loss: 1.7812, Val Loss: 1.8894\n",
            "Step [2200/5000], Train Loss: 1.8663, Val Loss: 1.8908\n",
            "Step [2250/5000], Train Loss: 1.7448, Val Loss: 1.8588\n",
            "New best model saved (Val Loss: 1.8588)\n",
            "Step [2300/5000], Train Loss: 1.7266, Val Loss: 1.8677\n",
            "Step [2350/5000], Train Loss: 1.6451, Val Loss: 1.8720\n",
            "Step [2400/5000], Train Loss: 1.7009, Val Loss: 1.8407\n",
            "New best model saved (Val Loss: 1.8407)\n",
            "Step [2450/5000], Train Loss: 1.7506, Val Loss: 1.8000\n",
            "New best model saved (Val Loss: 1.8000)\n",
            "Step [2500/5000], Train Loss: 1.6783, Val Loss: 1.8604\n",
            "Step [2550/5000], Train Loss: 1.6970, Val Loss: 1.8113\n",
            "Step [2600/5000], Train Loss: 1.6947, Val Loss: 1.8303\n",
            "Step [2650/5000], Train Loss: 1.6185, Val Loss: 1.8304\n",
            "Step [2700/5000], Train Loss: 1.5489, Val Loss: 1.8417\n",
            "Step [2750/5000], Train Loss: 1.6517, Val Loss: 1.8168\n",
            "Step [2800/5000], Train Loss: 1.6772, Val Loss: 1.8505\n",
            "Step [2850/5000], Train Loss: 1.5641, Val Loss: 1.7866\n",
            "New best model saved (Val Loss: 1.7866)\n",
            "Step [2900/5000], Train Loss: 1.8333, Val Loss: 1.8027\n",
            "Step [2950/5000], Train Loss: 1.6433, Val Loss: 1.8376\n",
            "Step [3000/5000], Train Loss: 1.6402, Val Loss: 1.7852\n",
            "New best model saved (Val Loss: 1.7852)\n",
            "Step [3050/5000], Train Loss: 1.5626, Val Loss: 1.7996\n",
            "Step [3100/5000], Train Loss: 1.6420, Val Loss: 1.8265\n",
            "Step [3150/5000], Train Loss: 1.6524, Val Loss: 1.8016\n",
            "Step [3200/5000], Train Loss: 1.6337, Val Loss: 1.7644\n",
            "New best model saved (Val Loss: 1.7644)\n",
            "Step [3250/5000], Train Loss: 1.4741, Val Loss: 1.8397\n",
            "Step [3300/5000], Train Loss: 1.4893, Val Loss: 1.7878\n",
            "Step [3350/5000], Train Loss: 1.7403, Val Loss: 1.7588\n",
            "New best model saved (Val Loss: 1.7588)\n",
            "Step [3400/5000], Train Loss: 1.6058, Val Loss: 1.8031\n",
            "Step [3450/5000], Train Loss: 1.6389, Val Loss: 1.7359\n",
            "New best model saved (Val Loss: 1.7359)\n",
            "Step [3500/5000], Train Loss: 1.6534, Val Loss: 1.7736\n",
            "Step [3550/5000], Train Loss: 1.6181, Val Loss: 1.7829\n",
            "Step [3600/5000], Train Loss: 1.6451, Val Loss: 1.7958\n",
            "Step [3650/5000], Train Loss: 1.5478, Val Loss: 1.7944\n",
            "Step [3700/5000], Train Loss: 1.6448, Val Loss: 1.7658\n",
            "Step [3750/5000], Train Loss: 1.5409, Val Loss: 1.7633\n",
            "Step [3800/5000], Train Loss: 1.5192, Val Loss: 1.7888\n",
            "Step [3850/5000], Train Loss: 1.5661, Val Loss: 1.7479\n",
            "Step [3900/5000], Train Loss: 1.5342, Val Loss: 1.7932\n",
            "Step [3950/5000], Train Loss: 1.3850, Val Loss: 1.7956\n",
            "Step [4000/5000], Train Loss: 1.5329, Val Loss: 1.7920\n",
            "Step [4050/5000], Train Loss: 1.5084, Val Loss: 1.7496\n",
            "Step [4100/5000], Train Loss: 1.4920, Val Loss: 1.7504\n",
            "Step [4150/5000], Train Loss: 1.5610, Val Loss: 1.7774\n",
            "Step [4200/5000], Train Loss: 1.4759, Val Loss: 1.7859\n",
            "Step [4250/5000], Train Loss: 1.6017, Val Loss: 1.7296\n",
            "New best model saved (Val Loss: 1.7296)\n",
            "Step [4300/5000], Train Loss: 1.5636, Val Loss: 1.7714\n",
            "Step [4350/5000], Train Loss: 1.4944, Val Loss: 1.7429\n",
            "Step [4400/5000], Train Loss: 1.6048, Val Loss: 1.7594\n",
            "Step [4450/5000], Train Loss: 1.5181, Val Loss: 1.7152\n",
            "New best model saved (Val Loss: 1.7152)\n",
            "Step [4500/5000], Train Loss: 1.5520, Val Loss: 1.7541\n",
            "Step [4550/5000], Train Loss: 1.6466, Val Loss: 1.7508\n",
            "Step [4600/5000], Train Loss: 1.5932, Val Loss: 1.7769\n",
            "Step [4650/5000], Train Loss: 1.4903, Val Loss: 1.7565\n",
            "Step [4700/5000], Train Loss: 1.5817, Val Loss: 1.7377\n",
            "Step [4750/5000], Train Loss: 1.6011, Val Loss: 1.7540\n",
            "Step [4800/5000], Train Loss: 1.4513, Val Loss: 1.7767\n",
            "Step [4850/5000], Train Loss: 1.5972, Val Loss: 1.7336\n",
            "Step [4900/5000], Train Loss: 1.4056, Val Loss: 1.7423\n",
            "Step [4950/5000], Train Loss: 1.5766, Val Loss: 1.7496\n"
          ]
        },
        {
          "output_type": "display_data",
          "data": {
            "text/plain": [
              "<IPython.core.display.HTML object>"
            ],
            "text/html": []
          },
          "metadata": {}
        },
        {
          "output_type": "display_data",
          "data": {
            "text/plain": [
              "<IPython.core.display.HTML object>"
            ],
            "text/html": [
              "<br>    <style><br>        .wandb-row {<br>            display: flex;<br>            flex-direction: row;<br>            flex-wrap: wrap;<br>            justify-content: flex-start;<br>            width: 100%;<br>        }<br>        .wandb-col {<br>            display: flex;<br>            flex-direction: column;<br>            flex-basis: 100%;<br>            flex: 1;<br>            padding: 10px;<br>        }<br>    </style><br><div class=\"wandb-row\"><div class=\"wandb-col\"><h3>Run history:</h3><br/><table class=\"wandb\"><tr><td>lr</td><td>███████▇▇▇▇▇▇▆▆▆▆▆▆▅▅▅▅▅▄▄▄▄▃▃▂▂▂▂▂▁▁▁▁▁</td></tr><tr><td>train/loss</td><td>█▆▆▅▄▄▄▃▃▃▃▂▃▂▃▂▂▂▂▂▂▂▁▁▁▂▁▁▂▂▁▂▁▁▁▁▂▁▁▁</td></tr><tr><td>val/loss</td><td>█▄▄▃▃▃▃▃▃▂▂▂▂▂▂▂▂▁▁▁▁▁▁▁▁▁▁▁▁▁▁▁▁▁▁▁▁▁▁▁</td></tr></table><br/></div><div class=\"wandb-col\"><h3>Run summary:</h3><br/><table class=\"wandb\"><tr><td>lr</td><td>0</td></tr><tr><td>train/loss</td><td>1.53303</td></tr><tr><td>val/loss</td><td>1.74955</td></tr></table><br/></div></div>"
            ]
          },
          "metadata": {}
        },
        {
          "output_type": "display_data",
          "data": {
            "text/plain": [
              "<IPython.core.display.HTML object>"
            ],
            "text/html": [
              " View run <strong style=\"color:#cdcd00\">Roman Nowak</strong> at: <a href='https://wandb.ai/deep-neural-network-course/lab5-mini-gpt/runs/xb9lwnz7' target=\"_blank\">https://wandb.ai/deep-neural-network-course/lab5-mini-gpt/runs/xb9lwnz7</a><br> View project at: <a href='https://wandb.ai/deep-neural-network-course/lab5-mini-gpt' target=\"_blank\">https://wandb.ai/deep-neural-network-course/lab5-mini-gpt</a><br>Synced 5 W&B file(s), 0 media file(s), 0 artifact file(s) and 0 other file(s)"
            ]
          },
          "metadata": {}
        },
        {
          "output_type": "display_data",
          "data": {
            "text/plain": [
              "<IPython.core.display.HTML object>"
            ],
            "text/html": [
              "Find logs at: <code>./wandb/run-20251016_093530-xb9lwnz7/logs</code>"
            ]
          },
          "metadata": {}
        }
      ],
      "source": [
        "trainer = Trainer(\n",
        "    model=model,\n",
        "    optimizer=optimizer,\n",
        "    scheduler=scheduler,\n",
        "    get_batch=get_batch,\n",
        "    make_causal_mask=make_causal_mask,\n",
        "    device=device,\n",
        "    max_iters=max_iters,\n",
        "    eval_interval=eval_interval,\n",
        "    name=\"Roman Nowak\"\n",
        ")\n",
        "\n",
        "trainer.train()"
      ]
    },
    {
      "cell_type": "code",
      "execution_count": 18,
      "id": "724ca0e6",
      "metadata": {
        "id": "724ca0e6",
        "colab": {
          "base_uri": "https://localhost:8080/"
        },
        "outputId": "0b0b19b0-c611-42bd-d138-1d3808d88872"
      },
      "outputs": [
        {
          "output_type": "stream",
          "name": "stdout",
          "text": [
            "\n",
            "Pod kontusza się, w przed stolicy w kolanie,\n",
            "I przed na kontusza się w koniec w pole.\n",
            "Widzę, że w te pod biegu pod stołu pod koniec,\n",
            "W koniu przez drzwi się z niebo pod pod kończył,\n",
            "I pod stolicy na przed szlachtę i przed kończył,\n",
            "I wiedząc się w niebo przez drugiej przed naszego\n",
            "I po czasie zapomniał w kolej w koniu i w przed szlachtę i w pokoju.\n",
            "Tak za nim straszy w pole szalaki się w pokoju.\n",
            "Widzisz to pod polskiej strach przed niebiosa,\n",
            "Adam Mickiewicz Pan Tadeusz, czyli ostatni zajazd na Litwie\n",
            "\n",
            "Podkomorzy przyjaźń w pole wyszli, wiecie,\n",
            "I po chwali się z przed pokoju, wielkiej służy,\n",
            "Przy tyle słowach zawsze szlachcica się za się pod słońcem,\n",
            "I potrzeba się z najwyższej w przechodził,\n",
            "Podkomorzy w przed polskich na polowania,\n",
            "I przez kontustów w niebie wielkie po słowo\n",
            "Podkomorzy pod prosił w konewkie wielkiej stronie,\n",
            "Podniósł i pod kończył się w przed stracia i krótki,\n",
            "I zapał na przyjaźnie z dawnymi się w pokoju.\n",
            "W koniec po trawym się podarło się z pokoleniem,\n",
            "I przy polskiem\n"
          ]
        }
      ],
      "source": [
        "# generate from the model\n",
        "model.load_state_dict(torch.load(\"best_mini_gpt.pth\"))\n",
        "context = torch.zeros((1, 1), dtype=torch.long, device=device)\n",
        "generated = model.generate(context, max_new_tokens=1000, temperature=0.5, top_k=2)[0].tolist()\n",
        "print(decode(generated))"
      ]
    },
    {
      "cell_type": "code",
      "execution_count": 19,
      "id": "8bb3a74d",
      "metadata": {
        "id": "8bb3a74d",
        "colab": {
          "base_uri": "https://localhost:8080/"
        },
        "outputId": "dfa9f4a7-8412-4de5-b654-acb81463c593"
      },
      "outputs": [
        {
          "output_type": "stream",
          "name": "stdout",
          "text": [
            "Litwo! Ojczyzno moja!\n",
            "A co choć wszędzie? — widzisz to pan Rejent cudzowie\n",
            "Z księdza nimś po często poważnie i skrzywa:\n",
            "Bo się szyka przybiega, jak biedzie z gorzem.\n",
            "Miałem konie, szale płoty dobry strony się napoley.\n",
            "Adam Mickiewicz Dziady, część III\n",
            "\n",
            "\n",
            "Jeżeli do domu pochwały nie wiem,\n",
            "A każdy służył, na koniec wybrały w pierwsze,\n",
            "Krzycząc z powietrze mówił za nim nie wiele.\n",
            "Ale jej był przy konfederskę kłamie,\n",
            "Co nas nie uczuła, szczypady na do smerai.\n",
            "Zamek się nie rusza sądził do niebiosem wieść z pokój?\n",
            "Jestem,\n"
          ]
        }
      ],
      "source": [
        "input_text = \"Litwo! Ojczyzno moja!\"\n",
        "context = torch.tensor(encode(input_text), dtype=torch.long, device=device).unsqueeze(0)\n",
        "generated = model.generate(context, max_new_tokens=500, temperature=0.7, top_k=10)[0].tolist()\n",
        "print(decode(generated))"
      ]
    },
    {
      "cell_type": "code",
      "execution_count": 20,
      "id": "33bbdba1",
      "metadata": {
        "id": "33bbdba1",
        "colab": {
          "base_uri": "https://localhost:8080/"
        },
        "outputId": "eb9f496a-270c-4b38-d575-6f5df95ad437"
      },
      "outputs": [
        {
          "output_type": "stream",
          "name": "stdout",
          "text": [
            "Model architecture:\n",
            "MiniGPT(\n",
            "  (token_emb): Embedding(100, 128)\n",
            "  (pos_emb): PositionalEncoding()\n",
            "  (blocks): ModuleList(\n",
            "    (0-5): 6 x DecoderBlock(\n",
            "      (self_attn): MultiHeadAttention(\n",
            "        (heads): ModuleList(\n",
            "          (0-7): 8 x Head(\n",
            "            (key): Linear(in_features=128, out_features=16, bias=False)\n",
            "            (query): Linear(in_features=128, out_features=16, bias=False)\n",
            "            (value): Linear(in_features=128, out_features=16, bias=False)\n",
            "            (dropout): Dropout(p=0.0, inplace=False)\n",
            "          )\n",
            "        )\n",
            "        (linear): Linear(in_features=128, out_features=128, bias=False)\n",
            "        (dropout): Dropout(p=0.0, inplace=False)\n",
            "      )\n",
            "      (norm1): LayerNorm((128,), eps=1e-05, elementwise_affine=True)\n",
            "      (norm3): LayerNorm((128,), eps=1e-05, elementwise_affine=True)\n",
            "      (ff): Sequential(\n",
            "        (0): Linear(in_features=128, out_features=512, bias=True)\n",
            "        (1): ReLU()\n",
            "        (2): Linear(in_features=512, out_features=128, bias=True)\n",
            "      )\n",
            "    )\n",
            "  )\n",
            "  (fc_out): Linear(in_features=128, out_features=100, bias=True)\n",
            ")\n",
            "Number of parameters: 1.21226 M\n"
          ]
        }
      ],
      "source": [
        "print(\"Model architecture:\")\n",
        "print(model)\n",
        "\n",
        "print(\"Number of parameters:\", sum(p.numel() for p in model.parameters() if p.requires_grad) / 1_000_000, \"M\")"
      ]
    },
    {
      "cell_type": "markdown",
      "id": "7f4caa14",
      "metadata": {
        "id": "7f4caa14"
      },
      "source": [
        "As we can see, we now have our own Mini-GPT model capable of generating fairly coherent text in Polish, despite being trained on a small dataset. The model itself is quite compact — with only about **1.2 million parameters**, it can be easily trained on a single GPU.\n",
        "\n",
        "For comparison, the original GPT-3 model contains around **175 billion parameters**, while GPT-4 is estimated to have about **1.8 trillion parameters** (although during inference it uses only a subset of them thanks to the Mixture of Experts architecture). This highlights just how much smaller and lighter our implementation is.\n",
        "\n",
        "One potential improvement would be to cache the results of the attention mechanism during text generation. This would allow the model to avoid recomputing attention outputs for all previously generated tokens at each step — a significant optimization for longer sequences. However, for the sake of simplicity, we did not implement this feature here."
      ]
    }
  ],
  "metadata": {
    "colab": {
      "provenance": [],
      "gpuType": "T4"
    },
    "kernelspec": {
      "display_name": "Python 3",
      "name": "python3"
    },
    "language_info": {
      "codemirror_mode": {
        "name": "ipython",
        "version": 3
      },
      "file_extension": ".py",
      "mimetype": "text/x-python",
      "name": "python",
      "nbconvert_exporter": "python",
      "pygments_lexer": "ipython3",
      "version": "3.9.23"
    },
    "accelerator": "GPU"
  },
  "nbformat": 4,
  "nbformat_minor": 5
}